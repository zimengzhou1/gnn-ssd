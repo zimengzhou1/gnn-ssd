{
 "cells": [
  {
   "cell_type": "code",
   "execution_count": 1,
   "metadata": {},
   "outputs": [],
   "source": [
    "from collections import OrderedDict\n",
    " \n",
    "class LRUCache:\n",
    "    def __init__(self, capacity: int):\n",
    "        self.cache = OrderedDict()\n",
    "        self.capacity = capacity\n",
    "        self.stats = []\n",
    " \n",
    "    def get(self, key: int) -> int:\n",
    "        if key not in self.cache:\n",
    "            self.stats.append(0)\n",
    "            return -1\n",
    "        else:\n",
    "            self.stats.append(1)\n",
    "            self.cache.move_to_end(key)\n",
    "            return self.cache[key]\n",
    " \n",
    "    def put(self, key: int, value: int) -> None:\n",
    "        self.cache[key] = value\n",
    "        self.cache.move_to_end(key)\n",
    "        if len(self.cache) > self.capacity:\n",
    "            self.cache.popitem(last = False)"
   ]
  },
  {
   "cell_type": "code",
   "execution_count": 2,
   "metadata": {},
   "outputs": [
    {
     "name": "stdout",
     "output_type": "stream",
     "text": [
      "Loading dataset...\n"
     ]
    }
   ],
   "source": [
    "import os.path as osp\n",
    "import os\n",
    "import torch\n",
    "from overflowDataset import OpenFlowDataset\n",
    "\n",
    "__file__ = os.path.abspath('')\n",
    "path = osp.join(osp.dirname(osp.realpath(__file__)), '..', 'data', 'OpenFlow')\n",
    "\n",
    "print(\"Loading dataset...\")\n",
    "dataset = OpenFlowDataset(path)\n",
    "data = dataset[0]\n",
    "data.n_id = torch.arange(data.num_nodes)"
   ]
  },
  {
   "cell_type": "code",
   "execution_count": 3,
   "metadata": {},
   "outputs": [
    {
     "data": {
      "text/plain": [
       "Data(x=[63497050, 128], edge_index=[2, 63497050], edge_attr=[63497050], n_id=[63497050])"
      ]
     },
     "execution_count": 3,
     "metadata": {},
     "output_type": "execute_result"
    }
   ],
   "source": [
    "data"
   ]
  },
  {
   "cell_type": "code",
   "execution_count": 4,
   "metadata": {},
   "outputs": [
    {
     "data": {
      "text/plain": [
       "tensor([[      9,       1,      13,  ...,  144088, 5617035, 5579164],\n",
       "        [      8,       1,       1,  ...,  275047, 4368648, 5579164]])"
      ]
     },
     "execution_count": 4,
     "metadata": {},
     "output_type": "execute_result"
    }
   ],
   "source": [
    "data.edge_index"
   ]
  },
  {
   "cell_type": "code",
   "execution_count": 5,
   "metadata": {},
   "outputs": [
    {
     "name": "stderr",
     "output_type": "stream",
     "text": [
      "100%|██████████| 1269940/1269940 [06:22<00:00, 3322.70it/s]\n"
     ]
    }
   ],
   "source": [
    "from tqdm import tqdm\n",
    "from neighbor_sampler import NeighborSampler\n",
    "\n",
    "subset = int(data.num_nodes / 100)\n",
    "node_ids = torch.flatten(data.edge_index.t())\n",
    "\n",
    "# Assume CPU cache is 10% of data\n",
    "CPUCache  = LRUCache(int(subset/10))\n",
    "\n",
    "# Assume GPU cache is 0.5% of data\n",
    "GPUCache = LRUCache(int(subset/200))\n",
    "\n",
    "temp_loader = NeighborSampler(data.edge_index, sizes=[10,10], node_idx=node_ids[:subset*2], batch_size=2)\n",
    "\n",
    "pbar = tqdm(total=subset*2)\n",
    "for batch_size, ids, adjs in temp_loader:\n",
    "  for i in ids:\n",
    "    i = int(i)\n",
    "    val = CPUCache.get(i)\n",
    "    if (val == -1):\n",
    "      # Fetch from SSD\n",
    "      CPUCache.put(i,i)\n",
    "  pbar.update(batch_size)\n",
    "pbar.close()"
   ]
  },
  {
   "cell_type": "code",
   "execution_count": 17,
   "metadata": {},
   "outputs": [],
   "source": [
    "def sum_intervals(vals):\n",
    "    interval_size = 20000\n",
    "    num_intervals = len(vals) // interval_size\n",
    "    interval_sums = []\n",
    "    for i in range(num_intervals):\n",
    "        start_index = i * interval_size\n",
    "        end_index = start_index + interval_size\n",
    "        interval = vals[start_index:end_index]\n",
    "        interval_sum = sum(interval) / interval_size\n",
    "        interval_sums.append(interval_sum)\n",
    "    return interval_sums"
   ]
  },
  {
   "cell_type": "code",
   "execution_count": 20,
   "metadata": {},
   "outputs": [],
   "source": [
    "intervals = sum_intervals(CPUCache.stats)\n"
   ]
  },
  {
   "cell_type": "code",
   "execution_count": 19,
   "metadata": {},
   "outputs": [
    {
     "data": {
      "text/plain": [
       "[<matplotlib.lines.Line2D at 0x7f79cfe15390>]"
      ]
     },
     "execution_count": 19,
     "metadata": {},
     "output_type": "execute_result"
    },
    {
     "data": {
      "image/png": "[encoded data removed]",
      "text/plain": [
       "<Figure size 640x480 with 1 Axes>"
      ]
     },
     "metadata": {},
     "output_type": "display_data"
    }
   ],
   "source": [
    "import matplotlib.pyplot as plt\n",
    "\n",
    "plt.plot(intervals)"
   ]
  },
  {
   "cell_type": "code",
   "execution_count": 35,
   "metadata": {},
   "outputs": [],
   "source": [
    "import scipy\n",
    "import numpy as np\n",
    "\n",
    "coo = data.edge_index.numpy()\n",
    "v = np.ones_like(coo[0])\n",
    "coo = scipy.sparse.coo_matrix((v, (coo[0], coo[1])), shape=(data.num_nodes, data.num_nodes))\n",
    "csc = coo.tocsc()\n",
    "csr = coo.tocsr()\n",
    "\n",
    "csc_indptr_tensor = torch.from_numpy(csc.indptr.astype(np.int64))\n",
    "csr_indptr_tensor = torch.from_numpy(csr.indptr.astype(np.int64))\n",
    "out_num_neighbors = csr_indptr_tensor[1:] - csr_indptr_tensor[:-1]\n",
    "in_num_neighbors = (csc_indptr_tensor[1:] - csc_indptr_tensor[:-1])\n"
   ]
  },
  {
   "cell_type": "code",
   "execution_count": 45,
   "metadata": {},
   "outputs": [],
   "source": [
    "sorted_vals_out, indices_out = torch.sort(out_num_neighbors, descending=True)\n",
    "sorted_vals_in, indices_in = torch.sort(in_num_neighbors, descending=True)"
   ]
  },
  {
   "cell_type": "code",
   "execution_count": 51,
   "metadata": {},
   "outputs": [
    {
     "name": "stdout",
     "output_type": "stream",
     "text": [
      "tensor([22258, 14743, 12732,  ...,     0,     0,     0])\n",
      "tensor([   22656,  1144035,    29407,  ..., 22696800, 22696801, 22696802])\n"
     ]
    }
   ],
   "source": [
    "print(sorted_vals_in)\n",
    "print(indices_in)"
   ]
  },
  {
   "cell_type": "code",
   "execution_count": 52,
   "metadata": {},
   "outputs": [
    {
     "name": "stdout",
     "output_type": "stream",
     "text": [
      "torch.Size([22258])\n",
      "torch.Size([14743])\n"
     ]
    }
   ],
   "source": [
    "nds = torch.tensor([22656, 1144035], dtype=torch.long)\n",
    "temp_loader = NeighborSampler(data.edge_index, sizes=[-1], node_idx=nds, batch_size=1)\n",
    "for batch_size, ids, adjs in temp_loader:\n",
    "    print(ids.size())"
   ]
  },
  {
   "cell_type": "code",
   "execution_count": 47,
   "metadata": {},
   "outputs": [],
   "source": [
    "subset = int(data.num_nodes / 100)\n",
    "node_ids = torch.flatten(data.edge_index.t())\n",
    "\n",
    "# Assume CPU cache is 10% of data\n",
    "CPUCache  = LRUCache(int(subset/10))\n",
    "\n",
    "# Assume GPU cache is 0.5% of data\n",
    "GPUCache = LRUCache(int(subset/200))\n",
    "\n",
    "for i in range(int(subset/10)):\n",
    "    val = int(out_num_neighbors[i])\n",
    "    CPUCache.put(val, val)"
   ]
  },
  {
   "cell_type": "code",
   "execution_count": 48,
   "metadata": {},
   "outputs": [
    {
     "name": "stderr",
     "output_type": "stream",
     "text": [
      "100%|██████████| 1269940/1269940 [05:26<00:00, 3887.77it/s]\n"
     ]
    }
   ],
   "source": [
    "temp_loader = NeighborSampler(data.edge_index, sizes=[10,10], node_idx=node_ids[:subset*2], batch_size=2)\n",
    "\n",
    "pbar = tqdm(total=subset*2)\n",
    "for batch_size, ids, adjs in temp_loader:\n",
    "  for i in ids:\n",
    "    i = int(i)\n",
    "    val = CPUCache.get(i)\n",
    "  pbar.update(batch_size)\n",
    "pbar.close()"
   ]
  },
  {
   "cell_type": "code",
   "execution_count": 49,
   "metadata": {},
   "outputs": [],
   "source": [
    "intervals = sum_intervals(CPUCache.stats)"
   ]
  },
  {
   "cell_type": "code",
   "execution_count": 50,
   "metadata": {},
   "outputs": [
    {
     "data": {
      "text/plain": [
       "[<matplotlib.lines.Line2D at 0x7f79cf322cb0>]"
      ]
     },
     "execution_count": 50,
     "metadata": {},
     "output_type": "execute_result"
    },
    {
     "data": {
      "image/png": "[encoded data removed]",
      "text/plain": [
       "<Figure size 640x480 with 1 Axes>"
      ]
     },
     "metadata": {},
     "output_type": "display_data"
    }
   ],
   "source": [
    "import matplotlib.pyplot as plt\n",
    "\n",
    "plt.plot(intervals)"
   ]
  },
  {
   "cell_type": "code",
   "execution_count": null,
   "metadata": {},
   "outputs": [],
   "source": [
    "# We find poor results if we use static caching. Perhaps this is due to the dataset used. Can we find a way to quantify the graph structure?"
   ]
  }
 ],
 "metadata": {
  "kernelspec": {
   "display_name": "gnn",
   "language": "python",
   "name": "python3"
  },
  "language_info": {
   "codemirror_mode": {
    "name": "ipython",
    "version": 3
   },
   "file_extension": ".py",
   "mimetype": "text/x-python",
   "name": "python",
   "nbconvert_exporter": "python",
   "pygments_lexer": "ipython3",
   "version": "3.10.8"
  },
  "orig_nbformat": 4,
  "vscode": {
   "interpreter": {
    "hash": "73986a8f3bce3efd6c5bb7f072a0fcc3be48ec97f1ec1ace688ac1bc99e481cd"
   }
  }
 },
 "nbformat": 4,
 "nbformat_minor": 2
}
