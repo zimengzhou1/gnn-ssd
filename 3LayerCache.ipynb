{
 "cells": [
  {
   "cell_type": "code",
   "execution_count": 2,
   "metadata": {},
   "outputs": [],
   "source": [
    "from collections import OrderedDict\n",
    " \n",
    "class LRUCache:\n",
    "    def __init__(self, capacity: int):\n",
    "        self.cache = OrderedDict()\n",
    "        self.capacity = capacity\n",
    "        self.stats = []\n",
    " \n",
    "    def get(self, key: int) -> int:\n",
    "        if key not in self.cache:\n",
    "            self.stats.append(0)\n",
    "            return -1\n",
    "        else:\n",
    "            self.stats.append(1)\n",
    "            self.cache.move_to_end(key)\n",
    "            return self.cache[key]\n",
    " \n",
    "    def put(self, key: int, value: int) -> None:\n",
    "        self.cache[key] = value\n",
    "        self.cache.move_to_end(key)\n",
    "        if len(self.cache) > self.capacity:\n",
    "            self.cache.popitem(last = False)"
   ]
  },
  {
   "cell_type": "code",
   "execution_count": 3,
   "metadata": {},
   "outputs": [
    {
     "name": "stdout",
     "output_type": "stream",
     "text": [
      "Loading dataset...\n"
     ]
    }
   ],
   "source": [
    "import os.path as osp\n",
    "import os\n",
    "import torch\n",
    "from overflowDataset import OpenFlowDataset\n",
    "from tqdm import tqdm\n",
    "from neighbor_sampler import NeighborSampler\n",
    "\n",
    "__file__ = os.path.abspath('')\n",
    "path = osp.join(osp.dirname(osp.realpath(__file__)), '..', 'data', 'OpenFlow')\n",
    "\n",
    "print(\"Loading dataset...\")\n",
    "dataset = OpenFlowDataset(path)\n",
    "data = dataset[0]\n",
    "#data.n_id = torch.arange(data.num_nodes)"
   ]
  },
  {
   "cell_type": "code",
   "execution_count": 12,
   "metadata": {},
   "outputs": [
    {
     "data": {
      "text/plain": [
       "Data(x=[63497050, 128], edge_index=[2, 63497050], edge_attr=[63497050])"
      ]
     },
     "execution_count": 12,
     "metadata": {},
     "output_type": "execute_result"
    }
   ],
   "source": [
    "data"
   ]
  },
  {
   "cell_type": "code",
   "execution_count": 9,
   "metadata": {},
   "outputs": [
    {
     "data": {
      "text/plain": [
       "2226243"
      ]
     },
     "execution_count": 9,
     "metadata": {},
     "output_type": "execute_result"
    }
   ],
   "source": [
    "len(torch.unique(data.edge_index[0]))"
   ]
  },
  {
   "cell_type": "code",
   "execution_count": 10,
   "metadata": {},
   "outputs": [
    {
     "data": {
      "text/plain": [
       "2296666"
      ]
     },
     "execution_count": 10,
     "metadata": {},
     "output_type": "execute_result"
    }
   ],
   "source": [
    "len(torch.unique(data.edge_index[1]))"
   ]
  },
  {
   "cell_type": "code",
   "execution_count": 90,
   "metadata": {},
   "outputs": [
    {
     "data": {
      "text/plain": [
       "63497"
      ]
     },
     "execution_count": 90,
     "metadata": {},
     "output_type": "execute_result"
    }
   ],
   "source": [
    "int(subset/10)"
   ]
  },
  {
   "cell_type": "code",
   "execution_count": 13,
   "metadata": {},
   "outputs": [
    {
     "name": "stderr",
     "output_type": "stream",
     "text": [
      "100%|██████████| 126994/126994 [00:38<00:00, 3314.90it/s]\n"
     ]
    }
   ],
   "source": [
    "subset = int(data.num_nodes / 1000)\n",
    "# Assume CPU cache is 5% of data\n",
    "CPUCacheNum = int(subset / 10)\n",
    "\n",
    "# Assume GPU cache is 0.25% of data\n",
    "GPUCacheNum = int(subset / 200)\n",
    "node_ids = torch.flatten(data.edge_index.t())\n",
    "\n",
    "CPUCache  = LRUCache(CPUCacheNum)\n",
    "GPUCache = LRUCache(GPUCacheNum)\n",
    "\n",
    "temp_loader = NeighborSampler(data.edge_index, sizes=[10,10], node_idx=node_ids[:subset*2], batch_size=2)\n",
    "\n",
    "pbar = tqdm(total=subset*2)\n",
    "for batch_size, ids, adjs in temp_loader:\n",
    "  for i in ids:\n",
    "    i = int(i)\n",
    "    val = CPUCache.get(i)\n",
    "    if (val == -1):\n",
    "      # Fetch from SSD\n",
    "      CPUCache.put(i,i)\n",
    "  pbar.update(batch_size)\n",
    "pbar.close()"
   ]
  },
  {
   "cell_type": "code",
   "execution_count": 24,
   "metadata": {},
   "outputs": [
    {
     "data": {
      "text/plain": [
       "0.6572514998002381"
      ]
     },
     "execution_count": 24,
     "metadata": {},
     "output_type": "execute_result"
    }
   ],
   "source": [
    "sum(dynamic_stats)/len(dynamic_stats)"
   ]
  },
  {
   "cell_type": "code",
   "execution_count": 4,
   "metadata": {},
   "outputs": [],
   "source": [
    "import scipy\n",
    "import numpy as np\n",
    "\n",
    "coo = data.edge_index.numpy()\n",
    "v = np.ones_like(coo[0])\n",
    "coo = scipy.sparse.coo_matrix((v, (coo[0], coo[1])), shape=(data.num_nodes, data.num_nodes))\n",
    "csc = coo.tocsc()\n",
    "csr = coo.tocsr()\n",
    "\n",
    "csc_indptr_tensor = torch.from_numpy(csc.indptr.astype(np.int64))\n",
    "csr_indptr_tensor = torch.from_numpy(csr.indptr.astype(np.int64))\n",
    "out_num_neighbors = csr_indptr_tensor[1:] - csr_indptr_tensor[:-1]\n",
    "in_num_neighbors = (csc_indptr_tensor[1:] - csc_indptr_tensor[:-1])\n"
   ]
  },
  {
   "cell_type": "code",
   "execution_count": 5,
   "metadata": {},
   "outputs": [],
   "source": [
    "sorted_vals_out, indices_out = torch.sort(out_num_neighbors, descending=True)\n",
    "sorted_vals_in, indices_in = torch.sort(in_num_neighbors, descending=True)"
   ]
  },
  {
   "cell_type": "code",
   "execution_count": 6,
   "metadata": {},
   "outputs": [
    {
     "name": "stdout",
     "output_type": "stream",
     "text": [
      "tensor([38148, 34878, 32597,  ...,     0,     0,     0])\n",
      "tensor([   22656,    17034,   118068,  ..., 22649852, 22649853, 22649854])\n"
     ]
    }
   ],
   "source": [
    "print(sorted_vals_out)\n",
    "print(indices_out)"
   ]
  },
  {
   "cell_type": "code",
   "execution_count": null,
   "metadata": {},
   "outputs": [],
   "source": [
    "# Sanity check in/out neighbours correct\n",
    "\n",
    "nds = torch.tensor([22656, 1144035], dtype=torch.long)\n",
    "temp_loader = NeighborSampler(data.edge_index, sizes=[-1], node_idx=nds, batch_size=1)\n",
    "for batch_size, ids, adjs in temp_loader:\n",
    "    print(ids.size())"
   ]
  },
  {
   "cell_type": "code",
   "execution_count": 9,
   "metadata": {},
   "outputs": [],
   "source": [
    "subset = int(data.num_nodes / 100)\n",
    "node_ids = torch.flatten(data.edge_index.t())\n",
    "\n",
    "# Assume CPU cache is 20% of data\n",
    "CPUCache  = LRUCache(int(subset/10))\n",
    "\n",
    "# Assume GPU cache is 0.5% of data\n",
    "GPUCache = LRUCache(int(subset/200))\n",
    "\n",
    "# Populate cache with highest out degree nodes\n",
    "for i in range(int(subset/10)):\n",
    "    val = int(indices_out[i])\n",
    "    CPUCache.put(val, val)"
   ]
  },
  {
   "cell_type": "code",
   "execution_count": 17,
   "metadata": {},
   "outputs": [
    {
     "name": "stderr",
     "output_type": "stream",
     "text": [
      "100%|██████████| 1269940/1269940 [06:08<00:00, 3447.09it/s]\n"
     ]
    }
   ],
   "source": [
    "temp_loader = NeighborSampler(data.edge_index, sizes=[10,10], node_idx=node_ids[:subset*2], batch_size=2)\n",
    "\n",
    "pbar = tqdm(total=subset*2)\n",
    "for batch_size, ids, adjs in temp_loader:\n",
    "  for i in ids:\n",
    "    i = int(i)\n",
    "    val = CPUCache.get(i)\n",
    "  pbar.update(batch_size)\n",
    "pbar.close()"
   ]
  },
  {
   "cell_type": "code",
   "execution_count": 18,
   "metadata": {},
   "outputs": [],
   "source": [
    "static_stats = CPUCache.stats\n",
    "intervals_static = sum_intervals(static_stats)"
   ]
  },
  {
   "cell_type": "code",
   "execution_count": 19,
   "metadata": {},
   "outputs": [
    {
     "data": {
      "text/plain": [
       "[<matplotlib.lines.Line2D at 0x7f39eb4ed450>]"
      ]
     },
     "execution_count": 19,
     "metadata": {},
     "output_type": "execute_result"
    },
    {
     "data": {
      "image/png": "[encoded data removed]",
      "text/plain": [
       "<Figure size 640x480 with 1 Axes>"
      ]
     },
     "metadata": {},
     "output_type": "display_data"
    }
   ],
   "source": [
    "import matplotlib.pyplot as plt\n",
    "\n",
    "plt.plot(intervals_static)"
   ]
  },
  {
   "cell_type": "code",
   "execution_count": 20,
   "metadata": {},
   "outputs": [
    {
     "data": {
      "text/plain": [
       "0.6430531510972097"
      ]
     },
     "execution_count": 20,
     "metadata": {},
     "output_type": "execute_result"
    }
   ],
   "source": [
    "sum(static_stats)/len(static_stats)"
   ]
  },
  {
   "cell_type": "code",
   "execution_count": null,
   "metadata": {},
   "outputs": [],
   "source": [
    "# We find poor results if we use static caching. Perhaps this is due to the dataset used. Can we find a way to quantify the graph structure?"
   ]
  },
  {
   "cell_type": "code",
   "execution_count": 10,
   "metadata": {},
   "outputs": [
    {
     "data": {
      "text/plain": [
       "1269940"
      ]
     },
     "execution_count": 10,
     "metadata": {},
     "output_type": "execute_result"
    }
   ],
   "source": [
    "len(edges[:2*subset])"
   ]
  },
  {
   "cell_type": "code",
   "execution_count": 13,
   "metadata": {},
   "outputs": [],
   "source": [
    "edges = data.edge_index.t()\n",
    "dic_temp = {}\n",
    "for i in range(len(edges[len(edges) - 2*subset:])):\n",
    "    src = int(edges[i][0])\n",
    "    dst = int(edges[i][1])\n",
    "    tup = (src, dst)\n",
    "    if src in dic_temp:\n",
    "        dic_temp[src] += 1\n",
    "    else:\n",
    "        dic_temp[src] = 1\n",
    "    \n",
    "    if dst in dic_temp:\n",
    "        dic_temp[dst] += 1\n",
    "    else:\n",
    "        dic_temp[src] = 1\n",
    "    \n"
   ]
  },
  {
   "cell_type": "code",
   "execution_count": 14,
   "metadata": {},
   "outputs": [
    {
     "data": {
      "text/plain": [
       "73570"
      ]
     },
     "execution_count": 14,
     "metadata": {},
     "output_type": "execute_result"
    }
   ],
   "source": [
    "len(dic_temp)"
   ]
  },
  {
   "cell_type": "code",
   "execution_count": 8,
   "metadata": {},
   "outputs": [],
   "source": [
    "# Percentage of all edges that are repeated\n",
    "edges = data.edge_index.t()\n",
    "dic = {}\n",
    "for i in range(len(edges)):\n",
    "    src = int(edges[i][0])\n",
    "    dst = int(edges[i][1])\n",
    "    tup = (src, dst)\n",
    "    if tup in dic:\n",
    "        dic[tup] += 1\n",
    "    else:\n",
    "        dic[tup] = 1\n",
    "\n",
    "\n",
    "# We hypothesise "
   ]
  },
  {
   "cell_type": "code",
   "execution_count": 57,
   "metadata": {},
   "outputs": [
    {
     "data": {
      "text/plain": [
       "36233450"
      ]
     },
     "execution_count": 57,
     "metadata": {},
     "output_type": "execute_result"
    }
   ],
   "source": [
    "# Number of unique edges\n",
    "len(dic)"
   ]
  },
  {
   "cell_type": "code",
   "execution_count": 9,
   "metadata": {},
   "outputs": [],
   "source": [
    "edge_repeats = dic.values()"
   ]
  },
  {
   "cell_type": "code",
   "execution_count": 62,
   "metadata": {},
   "outputs": [],
   "source": [
    "edge_repeats = list(edge_repeats)"
   ]
  },
  {
   "cell_type": "code",
   "execution_count": 10,
   "metadata": {},
   "outputs": [],
   "source": [
    "only_ones = [i for i in edge_repeats if i==1]\n",
    "not_start = [i for i in edge_repeats if i !=1 and i !=2 and i!=3]\n",
    "only_twos = [i for i in edge_repeats if i==2]\n",
    "only_threes = [i for i in edge_repeats if i==3]"
   ]
  },
  {
   "cell_type": "code",
   "execution_count": 13,
   "metadata": {},
   "outputs": [
    {
     "data": {
      "text/plain": [
       "42213961"
      ]
     },
     "execution_count": 13,
     "metadata": {},
     "output_type": "execute_result"
    }
   ],
   "source": [
    "sum(only_ones) + sum(only_twos) + sum(only_threes)"
   ]
  },
  {
   "cell_type": "code",
   "execution_count": 12,
   "metadata": {},
   "outputs": [
    {
     "data": {
      "text/plain": [
       "21283089"
      ]
     },
     "execution_count": 12,
     "metadata": {},
     "output_type": "execute_result"
    }
   ],
   "source": [
    "sum(not_start)"
   ]
  },
  {
   "cell_type": "code",
   "execution_count": 64,
   "metadata": {},
   "outputs": [
    {
     "data": {
      "text/plain": [
       "28199827"
      ]
     },
     "execution_count": 64,
     "metadata": {},
     "output_type": "execute_result"
    }
   ],
   "source": [
    "len(only_ones)"
   ]
  },
  {
   "cell_type": "code",
   "execution_count": 77,
   "metadata": {},
   "outputs": [
    {
     "data": {
      "text/plain": [
       "4623594"
      ]
     },
     "execution_count": 77,
     "metadata": {},
     "output_type": "execute_result"
    }
   ],
   "source": [
    "len(only_twos)"
   ]
  },
  {
   "cell_type": "code",
   "execution_count": 82,
   "metadata": {},
   "outputs": [
    {
     "data": {
      "text/plain": [
       "1588982"
      ]
     },
     "execution_count": 82,
     "metadata": {},
     "output_type": "execute_result"
    }
   ],
   "source": [
    "len(only_threes)"
   ]
  },
  {
   "cell_type": "code",
   "execution_count": 84,
   "metadata": {},
   "outputs": [
    {
     "data": {
      "text/plain": [
       "1821047"
      ]
     },
     "execution_count": 84,
     "metadata": {},
     "output_type": "execute_result"
    }
   ],
   "source": [
    "len(not_start)"
   ]
  },
  {
   "cell_type": "code",
   "execution_count": 85,
   "metadata": {},
   "outputs": [
    {
     "data": {
      "text/plain": [
       "(0.0, 250.0)"
      ]
     },
     "execution_count": 85,
     "metadata": {},
     "output_type": "execute_result"
    },
    {
     "data": {
      "image/png": "[encoded data removed]",
      "text/plain": [
       "<Figure size 640x480 with 1 Axes>"
      ]
     },
     "metadata": {},
     "output_type": "display_data"
    }
   ],
   "source": [
    "plt.hist(not_start, 10000)\n",
    "plt.xlim([0,250])"
   ]
  },
  {
   "cell_type": "code",
   "execution_count": 27,
   "metadata": {},
   "outputs": [],
   "source": [
    "def sum_intervals(vals):\n",
    "    interval_size = 20000\n",
    "    num_intervals = len(vals) // interval_size\n",
    "    interval_sums = []\n",
    "    for i in range(num_intervals):\n",
    "        start_index = i * interval_size\n",
    "        end_index = start_index + interval_size\n",
    "        interval = vals[start_index:end_index]\n",
    "        interval_sum = sum(interval) / interval_size\n",
    "        interval_sums.append(interval_sum)\n",
    "    return interval_sums\n",
    "\n",
    "def getHitRate(stats):\n",
    "    return sum(stats)/len(stats)"
   ]
  },
  {
   "cell_type": "code",
   "execution_count": 28,
   "metadata": {},
   "outputs": [
    {
     "data": {
      "text/plain": [
       "tensor(0.5105)"
      ]
     },
     "execution_count": 28,
     "metadata": {},
     "output_type": "execute_result"
    }
   ],
   "source": [
    "t = torch.load('LRU_subset_1.0Ccache_10.pt')\n",
    "t = list(t)\n",
    "\n",
    "intervals_dynamic = sum_intervals(t)\n",
    "getHitRate(intervals_dynamic)"
   ]
  },
  {
   "cell_type": "code",
   "execution_count": 29,
   "metadata": {},
   "outputs": [
    {
     "data": {
      "text/plain": [
       "Text(0.5, 0, 'Iterations')"
      ]
     },
     "execution_count": 29,
     "metadata": {},
     "output_type": "execute_result"
    },
    {
     "data": {
      "image/png": "[encoded data removed]",
      "text/plain": [
       "<Figure size 640x480 with 1 Axes>"
      ]
     },
     "metadata": {},
     "output_type": "display_data"
    }
   ],
   "source": [
    "import matplotlib.pyplot as plt\n",
    "\n",
    "plt.plot(intervals_dynamic)\n",
    "plt.title('Average cache hit per 20000 requests')\n",
    "plt.ylabel('Cache hit percentage')\n",
    "plt.xlabel('Iterations')"
   ]
  },
  {
   "cell_type": "code",
   "execution_count": 7,
   "metadata": {},
   "outputs": [],
   "source": [
    "# For LRU\n",
    "cacheSizes = [10,20,40,60,80]\n",
    "LRU_hits = [51.05, 63.94, 77.08, 84.17, 88.67]\n",
    "\n",
    "# For static\n",
    "static_hits = [55.36, 66.03, 76.79, 82.93, 87.09]"
   ]
  },
  {
   "cell_type": "code",
   "execution_count": 31,
   "metadata": {},
   "outputs": [],
   "source": [
    "t = torch.load('static_subset_1.0Ccache_10.pt')\n",
    "sum(t)"
   ]
  },
  {
   "cell_type": "code",
   "execution_count": null,
   "metadata": {},
   "outputs": [],
   "source": []
  }
 ],
 "metadata": {
  "kernelspec": {
   "display_name": "gnn",
   "language": "python",
   "name": "python3"
  },
  "language_info": {
   "codemirror_mode": {
    "name": "ipython",
    "version": 3
   },
   "file_extension": ".py",
   "mimetype": "text/x-python",
   "name": "python",
   "nbconvert_exporter": "python",
   "pygments_lexer": "ipython3",
   "version": "3.10.8"
  },
  "orig_nbformat": 4,
  "vscode": {
   "interpreter": {
    "hash": "73986a8f3bce3efd6c5bb7f072a0fcc3be48ec97f1ec1ace688ac1bc99e481cd"
   }
  }
 },
 "nbformat": 4,
 "nbformat_minor": 2
}
