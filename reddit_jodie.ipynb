{
 "cells": [
  {
   "cell_type": "code",
   "execution_count": 1,
   "metadata": {},
   "outputs": [
    {
     "name": "stderr",
     "output_type": "stream",
     "text": [
      "Downloading http://snap.stanford.edu/jodie/reddit.csv\n",
      "Processing...\n",
      "Done!\n"
     ]
    }
   ],
   "source": [
    "import os.path as osp\n",
    "import os\n",
    "\n",
    "import torch\n",
    "from sklearn.metrics import average_precision_score, roc_auc_score\n",
    "from torch.nn import Linear\n",
    "\n",
    "from torch_geometric.datasets import JODIEDataset\n",
    "from torch_geometric.loader import TemporalDataLoader\n",
    "from torch_geometric.nn import TransformerConv\n",
    "\n",
    "device = torch.device('cuda' if torch.cuda.is_available() else 'cpu')\n",
    "__file__ = os.path.abspath('')\n",
    "path = osp.join(osp.dirname(osp.realpath(__file__)), '..', 'data', 'JODIE')\n",
    "\n",
    "# TemporalData(src=[157474], dst=[157474], t=[157474], msg=[157474, 172], y=[157474])\n",
    "dataset = JODIEDataset(path, name='reddit')\n",
    "data_orig = dataset[0]"
   ]
  },
  {
   "cell_type": "code",
   "execution_count": 3,
   "metadata": {},
   "outputs": [
    {
     "data": {
      "text/plain": [
       "TemporalData(src=[672447], dst=[672447], t=[672447], msg=[672447, 172], y=[672447])"
      ]
     },
     "execution_count": 3,
     "metadata": {},
     "output_type": "execute_result"
    }
   ],
   "source": [
    "data_orig"
   ]
  },
  {
   "cell_type": "code",
   "execution_count": 4,
   "metadata": {},
   "outputs": [],
   "source": [
    "from torch_geometric.data import Data\n",
    "\n",
    "data = Data(x=data_orig.msg, edge_index=torch.stack([data_orig.src, data_orig.dst], dim=0), edge_attr=data_orig.t)"
   ]
  },
  {
   "cell_type": "code",
   "execution_count": 5,
   "metadata": {},
   "outputs": [
    {
     "data": {
      "text/plain": [
       "Data(x=[672447, 172], edge_index=[2, 672447], edge_attr=[672447])"
      ]
     },
     "execution_count": 5,
     "metadata": {},
     "output_type": "execute_result"
    }
   ],
   "source": [
    "data"
   ]
  },
  {
   "cell_type": "code",
   "execution_count": 6,
   "metadata": {},
   "outputs": [],
   "source": [
    "from collections import OrderedDict\n",
    " \n",
    "class LRUCache:\n",
    "    def __init__(self, capacity: int):\n",
    "        self.cache = OrderedDict()\n",
    "        self.capacity = capacity\n",
    "        self.stats = []\n",
    " \n",
    "    def get(self, key: int) -> int:\n",
    "        if key not in self.cache:\n",
    "            self.stats.append(0)\n",
    "            return -1\n",
    "        else:\n",
    "            self.stats.append(1)\n",
    "            self.cache.move_to_end(key)\n",
    "            return self.cache[key]\n",
    " \n",
    "    def put(self, key: int, value: int) -> None:\n",
    "        self.cache[key] = value\n",
    "        self.cache.move_to_end(key)\n",
    "        if len(self.cache) > self.capacity:\n",
    "            self.cache.popitem(last = False)"
   ]
  },
  {
   "cell_type": "code",
   "execution_count": 7,
   "metadata": {},
   "outputs": [
    {
     "name": "stderr",
     "output_type": "stream",
     "text": [
      "100%|██████████| 1344894/1344894 [01:52<00:00, 11926.47it/s]\n"
     ]
    }
   ],
   "source": [
    "import os.path as osp\n",
    "import os\n",
    "import torch\n",
    "from overflowDataset import OpenFlowDataset\n",
    "from tqdm import tqdm\n",
    "from neighbor_sampler import NeighborSampler\n",
    "\n",
    "subset = int(data.num_nodes)\n",
    "# Assume CPU cache is 10% of data\n",
    "CPUCacheNum = int(subset / 10)\n",
    "\n",
    "# Assume GPU cache is 0.25% of data\n",
    "GPUCacheNum = int(subset / 200)\n",
    "node_ids = torch.flatten(data.edge_index.t())\n",
    "\n",
    "CPUCacheLRU  = LRUCache(CPUCacheNum)\n",
    "GPUCache = LRUCache(GPUCacheNum)\n",
    "\n",
    "temp_loader = NeighborSampler(data.edge_index, sizes=[10,10], node_idx=node_ids, batch_size=2)\n",
    "\n",
    "pbar = tqdm(total=subset*2)\n",
    "for batch_size, ids, adjs in temp_loader:\n",
    "  for i in ids:\n",
    "    i = int(i)\n",
    "    val = CPUCacheLRU.get(i)\n",
    "    if (val == -1):\n",
    "      # Fetch from SSD\n",
    "      CPUCacheLRU.put(i,i)\n",
    "  pbar.update(batch_size)\n",
    "pbar.close()"
   ]
  },
  {
   "cell_type": "code",
   "execution_count": 8,
   "metadata": {},
   "outputs": [],
   "source": [
    "def sum_intervals(vals):\n",
    "    interval_size = 5000\n",
    "    num_intervals = len(vals) // interval_size\n",
    "    interval_sums = []\n",
    "    for i in range(num_intervals):\n",
    "        start_index = i * interval_size\n",
    "        end_index = start_index + interval_size\n",
    "        interval = vals[start_index:end_index]\n",
    "        interval_sum = sum(interval) / interval_size\n",
    "        interval_sums.append(interval_sum)\n",
    "    return interval_sums\n",
    "\n",
    "def getHitRate(stats):\n",
    "    return sum(stats)/len(stats)"
   ]
  },
  {
   "cell_type": "code",
   "execution_count": 9,
   "metadata": {},
   "outputs": [
    {
     "data": {
      "text/plain": [
       "0.9990914805624485"
      ]
     },
     "execution_count": 9,
     "metadata": {},
     "output_type": "execute_result"
    }
   ],
   "source": [
    "stats = list(CPUCacheLRU.stats)\n",
    "intervals_dynamic = sum_intervals(stats)\n",
    "getHitRate(intervals_dynamic)"
   ]
  },
  {
   "cell_type": "code",
   "execution_count": 19,
   "metadata": {},
   "outputs": [
    {
     "data": {
      "text/plain": [
       "Text(0.5, 0, 'Iterations')"
      ]
     },
     "execution_count": 19,
     "metadata": {},
     "output_type": "execute_result"
    },
    {
     "data": {
      "image/png": "[encoded data removed]",
      "text/plain": [
       "<Figure size 640x480 with 1 Axes>"
      ]
     },
     "metadata": {},
     "output_type": "display_data"
    }
   ],
   "source": [
    "import matplotlib.pyplot as plt\n",
    "\n",
    "plt.plot(intervals_dynamic)\n",
    "plt.title('Average cache hit per 20000 requests [DYNAMIC]')\n",
    "plt.ylabel('Cache hit percentage')\n",
    "plt.xlabel('Iterations')"
   ]
  },
  {
   "cell_type": "code",
   "execution_count": 11,
   "metadata": {},
   "outputs": [],
   "source": [
    "# STATIC CACHE\n",
    "\n",
    "import scipy\n",
    "import numpy as np\n",
    "\n",
    "coo = data.edge_index.numpy()\n",
    "v = np.ones_like(coo[0])\n",
    "coo = scipy.sparse.coo_matrix((v, (coo[0], coo[1])), shape=(data.num_nodes, data.num_nodes))\n",
    "csc = coo.tocsc()\n",
    "csr = coo.tocsr()\n",
    "\n",
    "csc_indptr_tensor = torch.from_numpy(csc.indptr.astype(np.int64))\n",
    "csr_indptr_tensor = torch.from_numpy(csr.indptr.astype(np.int64))\n",
    "out_num_neighbors = csr_indptr_tensor[1:] - csr_indptr_tensor[:-1]\n",
    "in_num_neighbors = (csc_indptr_tensor[1:] - csc_indptr_tensor[:-1])\n",
    "\n",
    "sorted_vals_out, indices_out = torch.sort(out_num_neighbors, descending=True)\n",
    "sorted_vals_in, indices_in = torch.sort(in_num_neighbors, descending=True)"
   ]
  },
  {
   "cell_type": "code",
   "execution_count": 12,
   "metadata": {},
   "outputs": [],
   "source": [
    "subset = int(data.num_nodes)\n",
    "node_ids = torch.flatten(data.edge_index.t())\n",
    "\n",
    "# Assume CPU cache is 10% of data\n",
    "CPUCacheNum = int(subset / 10)\n",
    "\n",
    "# Assume GPU cache is 0.25% of data\n",
    "GPUCacheNum = int(subset / 200)\n",
    "\n",
    "CPUCacheStatic  = LRUCache(CPUCacheNum)\n",
    "GPUCache = LRUCache(GPUCacheNum)\n",
    "\n",
    "# Populate cache with highest out degree nodes\n",
    "for i in range(CPUCacheNum):\n",
    "    val = int(indices_out[i])\n",
    "    CPUCacheStatic.put(val, val)"
   ]
  },
  {
   "cell_type": "code",
   "execution_count": 13,
   "metadata": {},
   "outputs": [
    {
     "name": "stderr",
     "output_type": "stream",
     "text": [
      "100%|██████████| 1344894/1344894 [01:53<00:00, 11836.63it/s]\n"
     ]
    }
   ],
   "source": [
    "temp_loader = NeighborSampler(data.edge_index, sizes=[10,10], node_idx=node_ids, batch_size=2)\n",
    "\n",
    "pbar = tqdm(total=subset*2)\n",
    "for batch_size, ids, adjs in temp_loader:\n",
    "  for i in ids:\n",
    "    i = int(i)\n",
    "    val = CPUCacheStatic.get(i)\n",
    "  pbar.update(batch_size)\n",
    "pbar.close()"
   ]
  },
  {
   "cell_type": "code",
   "execution_count": 14,
   "metadata": {},
   "outputs": [
    {
     "data": {
      "text/plain": [
       "0.9443847808105934"
      ]
     },
     "execution_count": 14,
     "metadata": {},
     "output_type": "execute_result"
    }
   ],
   "source": [
    "stats = list(CPUCacheStatic.stats)\n",
    "intervals_static = sum_intervals(stats)\n",
    "getHitRate(intervals_static)"
   ]
  },
  {
   "cell_type": "code",
   "execution_count": 20,
   "metadata": {},
   "outputs": [
    {
     "data": {
      "text/plain": [
       "(0.9, 1.0)"
      ]
     },
     "execution_count": 20,
     "metadata": {},
     "output_type": "execute_result"
    },
    {
     "data": {
      "image/png": "[encoded data removed]",
      "text/plain": [
       "<Figure size 640x480 with 1 Axes>"
      ]
     },
     "metadata": {},
     "output_type": "display_data"
    }
   ],
   "source": [
    "import matplotlib.pyplot as plt\n",
    "\n",
    "plt.plot(intervals_static)\n",
    "plt.title('Average cache hit per 20000 requests [STATIC]')\n",
    "plt.ylabel('Cache hit percentage')\n",
    "plt.xlabel('Iterations')\n",
    "plt.ylim([0.9, 1])"
   ]
  },
  {
   "cell_type": "code",
   "execution_count": null,
   "metadata": {},
   "outputs": [],
   "source": []
  }
 ],
 "metadata": {
  "kernelspec": {
   "display_name": "gnn",
   "language": "python",
   "name": "python3"
  },
  "language_info": {
   "codemirror_mode": {
    "name": "ipython",
    "version": 3
   },
   "file_extension": ".py",
   "mimetype": "text/x-python",
   "name": "python",
   "nbconvert_exporter": "python",
   "pygments_lexer": "ipython3",
   "version": "3.10.8"
  },
  "orig_nbformat": 4,
  "vscode": {
   "interpreter": {
    "hash": "73986a8f3bce3efd6c5bb7f072a0fcc3be48ec97f1ec1ace688ac1bc99e481cd"
   }
  }
 },
 "nbformat": 4,
 "nbformat_minor": 2
}
