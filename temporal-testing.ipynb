{
 "cells": [
  {
   "cell_type": "code",
   "execution_count": 1,
   "metadata": {},
   "outputs": [],
   "source": [
    "import json\n",
    "import numpy as np\n",
    "import pandas as pd\n",
    "from pathlib import Path\n",
    "import argparse"
   ]
  },
  {
   "cell_type": "code",
   "execution_count": 2,
   "metadata": {},
   "outputs": [],
   "source": [
    "def preprocess(data_name):\n",
    "  src_list, dst_list, ts_list = [], [], []\n",
    "\n",
    "  with open(data_name) as f:\n",
    "    for idx, line in enumerate(f):\n",
    "      e = line.strip().split(' ')\n",
    "      src = int(e[0])\n",
    "      dst = int(e[1])\n",
    "\n",
    "      ts = float(e[2])\n",
    "\n",
    "      src_list.append(src)\n",
    "      dst_list.append(dst)\n",
    "      ts_list.append(ts)\n",
    "\n",
    "  return pd.DataFrame({'src': src_list,\n",
    "                       'dst': dst_list,\n",
    "                       'ts': ts_list})"
   ]
  },
  {
   "cell_type": "code",
   "execution_count": 3,
   "metadata": {},
   "outputs": [],
   "source": [
    "data_name = \"sx-stackoverflow\"\n",
    "PATH = './data/{}.txt'.format(data_name)\n",
    "OUT_DF = './data/ml_{}.csv'.format(data_name)\n",
    "\n",
    "#df = preprocess(PATH)"
   ]
  },
  {
   "cell_type": "code",
   "execution_count": 4,
   "metadata": {},
   "outputs": [],
   "source": [
    "df = pd.read_csv('./data/ml_{}.csv'.format(data_name))"
   ]
  },
  {
   "cell_type": "code",
   "execution_count": 5,
   "metadata": {},
   "outputs": [
    {
     "data": {
      "text/html": [
       "<div>\n",
       "<style scoped>\n",
       "    .dataframe tbody tr th:only-of-type {\n",
       "        vertical-align: middle;\n",
       "    }\n",
       "\n",
       "    .dataframe tbody tr th {\n",
       "        vertical-align: top;\n",
       "    }\n",
       "\n",
       "    .dataframe thead th {\n",
       "        text-align: right;\n",
       "    }\n",
       "</style>\n",
       "<table border=\"1\" class=\"dataframe\">\n",
       "  <thead>\n",
       "    <tr style=\"text-align: right;\">\n",
       "      <th></th>\n",
       "      <th>Unnamed: 0</th>\n",
       "      <th>src</th>\n",
       "      <th>dst</th>\n",
       "      <th>ts</th>\n",
       "    </tr>\n",
       "  </thead>\n",
       "  <tbody>\n",
       "    <tr>\n",
       "      <th>0</th>\n",
       "      <td>0</td>\n",
       "      <td>9</td>\n",
       "      <td>8</td>\n",
       "      <td>1.217568e+09</td>\n",
       "    </tr>\n",
       "    <tr>\n",
       "      <th>1</th>\n",
       "      <td>1</td>\n",
       "      <td>1</td>\n",
       "      <td>1</td>\n",
       "      <td>1.217574e+09</td>\n",
       "    </tr>\n",
       "    <tr>\n",
       "      <th>2</th>\n",
       "      <td>2</td>\n",
       "      <td>13</td>\n",
       "      <td>1</td>\n",
       "      <td>1.217606e+09</td>\n",
       "    </tr>\n",
       "    <tr>\n",
       "      <th>3</th>\n",
       "      <td>3</td>\n",
       "      <td>17</td>\n",
       "      <td>1</td>\n",
       "      <td>1.217618e+09</td>\n",
       "    </tr>\n",
       "    <tr>\n",
       "      <th>4</th>\n",
       "      <td>4</td>\n",
       "      <td>48</td>\n",
       "      <td>2</td>\n",
       "      <td>1.217618e+09</td>\n",
       "    </tr>\n",
       "    <tr>\n",
       "      <th>...</th>\n",
       "      <td>...</td>\n",
       "      <td>...</td>\n",
       "      <td>...</td>\n",
       "      <td>...</td>\n",
       "    </tr>\n",
       "    <tr>\n",
       "      <th>63497045</th>\n",
       "      <td>63497045</td>\n",
       "      <td>4049257</td>\n",
       "      <td>3816212</td>\n",
       "      <td>1.457273e+09</td>\n",
       "    </tr>\n",
       "    <tr>\n",
       "      <th>63497046</th>\n",
       "      <td>63497046</td>\n",
       "      <td>3507137</td>\n",
       "      <td>1801524</td>\n",
       "      <td>1.457273e+09</td>\n",
       "    </tr>\n",
       "    <tr>\n",
       "      <th>63497047</th>\n",
       "      <td>63497047</td>\n",
       "      <td>144088</td>\n",
       "      <td>275047</td>\n",
       "      <td>1.457273e+09</td>\n",
       "    </tr>\n",
       "    <tr>\n",
       "      <th>63497048</th>\n",
       "      <td>63497048</td>\n",
       "      <td>5617035</td>\n",
       "      <td>4368648</td>\n",
       "      <td>1.457273e+09</td>\n",
       "    </tr>\n",
       "    <tr>\n",
       "      <th>63497049</th>\n",
       "      <td>63497049</td>\n",
       "      <td>5579164</td>\n",
       "      <td>5579164</td>\n",
       "      <td>1.457273e+09</td>\n",
       "    </tr>\n",
       "  </tbody>\n",
       "</table>\n",
       "<p>63497050 rows × 4 columns</p>\n",
       "</div>"
      ],
      "text/plain": [
       "          Unnamed: 0      src      dst            ts\n",
       "0                  0        9        8  1.217568e+09\n",
       "1                  1        1        1  1.217574e+09\n",
       "2                  2       13        1  1.217606e+09\n",
       "3                  3       17        1  1.217618e+09\n",
       "4                  4       48        2  1.217618e+09\n",
       "...              ...      ...      ...           ...\n",
       "63497045    63497045  4049257  3816212  1.457273e+09\n",
       "63497046    63497046  3507137  1801524  1.457273e+09\n",
       "63497047    63497047   144088   275047  1.457273e+09\n",
       "63497048    63497048  5617035  4368648  1.457273e+09\n",
       "63497049    63497049  5579164  5579164  1.457273e+09\n",
       "\n",
       "[63497050 rows x 4 columns]"
      ]
     },
     "execution_count": 5,
     "metadata": {},
     "output_type": "execute_result"
    }
   ],
   "source": [
    "df"
   ]
  },
  {
   "cell_type": "code",
   "execution_count": 6,
   "metadata": {},
   "outputs": [
    {
     "data": {
      "text/html": [
       "<div>\n",
       "<style scoped>\n",
       "    .dataframe tbody tr th:only-of-type {\n",
       "        vertical-align: middle;\n",
       "    }\n",
       "\n",
       "    .dataframe tbody tr th {\n",
       "        vertical-align: top;\n",
       "    }\n",
       "\n",
       "    .dataframe thead th {\n",
       "        text-align: right;\n",
       "    }\n",
       "</style>\n",
       "<table border=\"1\" class=\"dataframe\">\n",
       "  <thead>\n",
       "    <tr style=\"text-align: right;\">\n",
       "      <th></th>\n",
       "      <th>ts</th>\n",
       "    </tr>\n",
       "    <tr>\n",
       "      <th>dst</th>\n",
       "      <th></th>\n",
       "    </tr>\n",
       "  </thead>\n",
       "  <tbody>\n",
       "    <tr>\n",
       "      <th>1</th>\n",
       "      <td>[1217573801.0, 1217606247.0, 1217617639.0, 121...</td>\n",
       "    </tr>\n",
       "    <tr>\n",
       "      <th>2</th>\n",
       "      <td>[1217618182.0, 1217625055.0, 1217714233.0, 121...</td>\n",
       "    </tr>\n",
       "    <tr>\n",
       "      <th>3</th>\n",
       "      <td>[1226725170.0, 1231933265.0, 1231937597.0, 123...</td>\n",
       "    </tr>\n",
       "    <tr>\n",
       "      <th>4</th>\n",
       "      <td>[1221494273.0, 1221906984.0, 1221908021.0, 122...</td>\n",
       "    </tr>\n",
       "    <tr>\n",
       "      <th>5</th>\n",
       "      <td>[1218160607.0, 1218160858.0, 1218160865.0, 121...</td>\n",
       "    </tr>\n",
       "    <tr>\n",
       "      <th>...</th>\n",
       "      <td>...</td>\n",
       "    </tr>\n",
       "    <tr>\n",
       "      <th>6024256</th>\n",
       "      <td>[1457266570.0, 1457266693.0, 1457266782.0]</td>\n",
       "    </tr>\n",
       "    <tr>\n",
       "      <th>6024257</th>\n",
       "      <td>[1457271570.0, 1457272980.0]</td>\n",
       "    </tr>\n",
       "    <tr>\n",
       "      <th>6024258</th>\n",
       "      <td>[1457266362.0, 1457266678.0, 1457266762.0, 145...</td>\n",
       "    </tr>\n",
       "    <tr>\n",
       "      <th>6024260</th>\n",
       "      <td>[1457266629.0, 1457266684.0, 1457266750.0, 145...</td>\n",
       "    </tr>\n",
       "    <tr>\n",
       "      <th>6024270</th>\n",
       "      <td>[1457266754.0, 1457266785.0]</td>\n",
       "    </tr>\n",
       "  </tbody>\n",
       "</table>\n",
       "<p>2296666 rows × 1 columns</p>\n",
       "</div>"
      ],
      "text/plain": [
       "                                                        ts\n",
       "dst                                                       \n",
       "1        [1217573801.0, 1217606247.0, 1217617639.0, 121...\n",
       "2        [1217618182.0, 1217625055.0, 1217714233.0, 121...\n",
       "3        [1226725170.0, 1231933265.0, 1231937597.0, 123...\n",
       "4        [1221494273.0, 1221906984.0, 1221908021.0, 122...\n",
       "5        [1218160607.0, 1218160858.0, 1218160865.0, 121...\n",
       "...                                                    ...\n",
       "6024256         [1457266570.0, 1457266693.0, 1457266782.0]\n",
       "6024257                       [1457271570.0, 1457272980.0]\n",
       "6024258  [1457266362.0, 1457266678.0, 1457266762.0, 145...\n",
       "6024260  [1457266629.0, 1457266684.0, 1457266750.0, 145...\n",
       "6024270                       [1457266754.0, 1457266785.0]\n",
       "\n",
       "[2296666 rows x 1 columns]"
      ]
     },
     "execution_count": 6,
     "metadata": {},
     "output_type": "execute_result"
    }
   ],
   "source": [
    "df_group = df.groupby('dst').agg({'ts':lambda x: list(x)})\n",
    "df_group"
   ]
  },
  {
   "cell_type": "code",
   "execution_count": 7,
   "metadata": {},
   "outputs": [],
   "source": [
    "df_group['diff'] = df_group.apply(lambda row: np.diff(sorted(row['ts'])), axis=1)"
   ]
  },
  {
   "cell_type": "code",
   "execution_count": 9,
   "metadata": {},
   "outputs": [
    {
     "data": {
      "text/plain": [
       "Text(0.5, 1.0, 'Time difference between single dest node')"
      ]
     },
     "execution_count": 9,
     "metadata": {},
     "output_type": "execute_result"
    },
    {
     "data": {
      "image/png": "[encoded data removed]",
      "text/plain": [
       "<Figure size 640x480 with 1 Axes>"
      ]
     },
     "metadata": {},
     "output_type": "display_data"
    }
   ],
   "source": [
    "import matplotlib.pyplot as plt\n",
    "plt.hist(df_group['diff'].iloc[1], bins=200)\n",
    "plt.xlabel(\"Difference (secs)\")\n",
    "plt.ylabel(\"Frequency\")\n",
    "plt.title(\"Time difference between single dest node\")"
   ]
  },
  {
   "cell_type": "code",
   "execution_count": 10,
   "metadata": {},
   "outputs": [],
   "source": [
    "all = np.hstack(df_group['diff'])"
   ]
  },
  {
   "cell_type": "code",
   "execution_count": 11,
   "metadata": {},
   "outputs": [],
   "source": [
    "# Filter out time different greater than 2 weeks\n",
    "filter_arr = all[all < 1209600]\n",
    "len(filter_arr)"
   ]
  },
  {
   "cell_type": "code",
   "execution_count": 13,
   "metadata": {},
   "outputs": [
    {
     "data": {
      "text/plain": [
       "61200384"
      ]
     },
     "execution_count": 13,
     "metadata": {},
     "output_type": "execute_result"
    }
   ],
   "source": [
    "len(all)"
   ]
  },
  {
   "cell_type": "code",
   "execution_count": 24,
   "metadata": {},
   "outputs": [
    {
     "name": "stdout",
     "output_type": "stream",
     "text": [
      "[58607140   695455   357559 ...        1        0        1]\n",
      "[0.000000e+00 2.159000e+00 4.318000e+00 ... 8.631682e+03 8.633841e+03\n",
      " 8.636000e+03]\n"
     ]
    }
   ],
   "source": [
    "counts, bin_edges = np.histogram(filter_arr, bins=4000)\n",
    "print(counts)\n",
    "print(bin_edges)"
   ]
  },
  {
   "cell_type": "code",
   "execution_count": 38,
   "metadata": {},
   "outputs": [
    {
     "data": {
      "text/html": [
       "<div>\n",
       "<style scoped>\n",
       "    .dataframe tbody tr th:only-of-type {\n",
       "        vertical-align: middle;\n",
       "    }\n",
       "\n",
       "    .dataframe tbody tr th {\n",
       "        vertical-align: top;\n",
       "    }\n",
       "\n",
       "    .dataframe thead th {\n",
       "        text-align: right;\n",
       "    }\n",
       "</style>\n",
       "<table border=\"1\" class=\"dataframe\">\n",
       "  <thead>\n",
       "    <tr style=\"text-align: right;\">\n",
       "      <th></th>\n",
       "      <th>0</th>\n",
       "    </tr>\n",
       "  </thead>\n",
       "  <tbody>\n",
       "    <tr>\n",
       "      <th>count</th>\n",
       "      <td>6.120038e+07</td>\n",
       "    </tr>\n",
       "    <tr>\n",
       "      <th>mean</th>\n",
       "      <td>3.813114e+00</td>\n",
       "    </tr>\n",
       "    <tr>\n",
       "      <th>std</th>\n",
       "      <td>6.408714e+02</td>\n",
       "    </tr>\n",
       "    <tr>\n",
       "      <th>min</th>\n",
       "      <td>0.000000e+00</td>\n",
       "    </tr>\n",
       "    <tr>\n",
       "      <th>25%</th>\n",
       "      <td>0.000000e+00</td>\n",
       "    </tr>\n",
       "    <tr>\n",
       "      <th>50%</th>\n",
       "      <td>0.000000e+00</td>\n",
       "    </tr>\n",
       "    <tr>\n",
       "      <th>75%</th>\n",
       "      <td>0.000000e+00</td>\n",
       "    </tr>\n",
       "    <tr>\n",
       "      <th>max</th>\n",
       "      <td>1.975180e+06</td>\n",
       "    </tr>\n",
       "  </tbody>\n",
       "</table>\n",
       "</div>"
      ],
      "text/plain": [
       "                  0\n",
       "count  6.120038e+07\n",
       "mean   3.813114e+00\n",
       "std    6.408714e+02\n",
       "min    0.000000e+00\n",
       "25%    0.000000e+00\n",
       "50%    0.000000e+00\n",
       "75%    0.000000e+00\n",
       "max    1.975180e+06"
      ]
     },
     "execution_count": 38,
     "metadata": {},
     "output_type": "execute_result"
    }
   ],
   "source": [
    "df_describe = pd.DataFrame(all)\n",
    "df_describe.describe()"
   ]
  },
  {
   "cell_type": "code",
   "execution_count": 15,
   "metadata": {},
   "outputs": [
    {
     "data": {
      "text/plain": [
       "Text(0.5, 1.0, 'Time difference between interaction of destination nodes')"
      ]
     },
     "execution_count": 15,
     "metadata": {},
     "output_type": "execute_result"
    },
    {
     "data": {
      "image/png": "[encoded data removed]",
      "text/plain": [
       "<Figure size 640x480 with 1 Axes>"
      ]
     },
     "metadata": {},
     "output_type": "display_data"
    }
   ],
   "source": [
    "plt.hist(filter_arr, bins=2000)\n",
    "plt.xlim(0,100000)\n",
    "plt.xlabel(\"Difference (secs)\")\n",
    "plt.ylabel(\"Frequency\")\n",
    "plt.title(\"Time difference between interaction of destination nodes\")"
   ]
  },
  {
   "cell_type": "code",
   "execution_count": 42,
   "metadata": {},
   "outputs": [
    {
     "data": {
      "text/plain": [
       "Text(0.5, 1.0, 'Time difference between interaction in 1000 destination nodes')"
      ]
     },
     "execution_count": 42,
     "metadata": {},
     "output_type": "execute_result"
    },
    {
     "data": {
      "image/png": "[encoded data removed]",
      "text/plain": [
       "<Figure size 640x480 with 1 Axes>"
      ]
     },
     "metadata": {},
     "output_type": "display_data"
    }
   ],
   "source": [
    "all_10k = np.hstack(df_group['diff'].loc[:1000])\n",
    "all_10k = all_10k[all_10k < 1209600]\n",
    "plt.hist(all_10k, bins=200)\n",
    "plt.xlim(0,100000)\n",
    "plt.xlabel(\"Difference (secs)\")\n",
    "plt.ylabel(\"Frequency\")\n",
    "plt.title(\"Time difference between interaction in 1000 destination nodes\")\n"
   ]
  },
  {
   "cell_type": "code",
   "execution_count": 28,
   "metadata": {},
   "outputs": [
    {
     "data": {
      "text/plain": [
       "186552"
      ]
     },
     "execution_count": 28,
     "metadata": {},
     "output_type": "execute_result"
    }
   ],
   "source": [
    "len(all_10k)"
   ]
  },
  {
   "cell_type": "code",
   "execution_count": 27,
   "metadata": {},
   "outputs": [
    {
     "data": {
      "text/plain": [
       "dst\n",
       "1       [32446.0, 11392.0, 600.0, 34133.0, 231074.0, 1...\n",
       "2       [6873.0, 89178.0, 140848.0, 335.0, 1764.0, 365...\n",
       "3       [957426.0, 10159.0, 143352.0, 140805.0, 403749...\n",
       "4       [1693079.0, 423374.0, 91914.0, 122454.0, 19834...\n",
       "5       [251.0, 7.0, 55.0, 680679.0, 277971.0, 151.0, ...\n",
       "                              ...                        \n",
       "996     [265.0, 371.0, 461.0, 540.0, 296151.0, 2126.0,...\n",
       "997     [2242.0, 1195905.0, 877.0, 670.0, 2928791.0, 9...\n",
       "998     [616.0, 2351.0, 65842.0, 598.0, 2382.0, 116832...\n",
       "999     [7390.0, 623.0, 2390458.0, 564.0, 164487.0, 78...\n",
       "1000    [242.0, 1.0, 4033.0, 4376.0, 544.0, 79385.0, 3...\n",
       "Name: diff, Length: 727, dtype: object"
      ]
     },
     "execution_count": 27,
     "metadata": {},
     "output_type": "execute_result"
    }
   ],
   "source": [
    "df_group['diff'].loc[:1000]"
   ]
  },
  {
   "cell_type": "code",
   "execution_count": 93,
   "metadata": {},
   "outputs": [],
   "source": [
    "import os\n",
    "import pandas as pd\n",
    "import os.path as osp\n",
    "from overflowDataset import OverFlowDataset\n",
    "from torch_geometric.datasets import JODIEDataset\n",
    "import torch\n",
    "from torch_geometric.data import Data\n",
    "from torch_geometric.utils import to_undirected\n",
    "\n",
    "__file__ = os.path.abspath('')\n",
    "path = osp.join(osp.dirname(osp.realpath(__file__)), '..', 'data', 'OpenFlow')\n",
    "\n",
    "dataName = 'taobao'\n",
    "\n",
    "if dataName == 'overflow':\n",
    "    path = '/mnt/raid0nvme1/zz/data/' + 'overflow'\n",
    "    dataset = OverFlowDataset(path)\n",
    "    data = dataset[0]\n",
    "    orig_edge_index = data.edge_index\n",
    "elif dataName == 'taobao':\n",
    "    path = '/mnt/raid0nvme1/zz/data/' + 'taobao/taobao.pt'\n",
    "    data = torch.load(path)\n",
    "    orig_edge_index = data.edge_index\n",
    "    data.edge_index = to_undirected(data.edge_index)\n",
    "elif dataName == 'reddit':\n",
    "    path = '/mnt/raid0nvme1/zz/data/' + 'JODIE'\n",
    "    dataset = JODIEDataset(path, name='reddit')\n",
    "    data_orig = dataset[0]\n",
    "    data = Data(x=data_orig.msg, edge_index=torch.stack([data_orig.src, data_orig.dst], dim=0), edge_attr=data_orig.t)\n",
    "    orig_edge_index = data.edge_index\n",
    "    data.edge_index = to_undirected(data.edge_index)\n",
    "elif dataName == 'wiki':\n",
    "    path = '/mnt/raid0nvme1/zz/data/' + 'JODIE'\n",
    "    dataset = JODIEDataset(path, name='wikipedia')\n",
    "    data_orig = dataset[0]\n",
    "    data = Data(x=data_orig.msg, edge_index=torch.stack([data_orig.src, data_orig.dst], dim=0), edge_attr=data_orig.t)\n",
    "    orig_edge_index = data.edge_index\n",
    "    data.edge_index = to_undirected(data.edge_index)"
   ]
  },
  {
   "cell_type": "code",
   "execution_count": 94,
   "metadata": {},
   "outputs": [
    {
     "data": {
      "text/html": [
       "<div>\n",
       "<style scoped>\n",
       "    .dataframe tbody tr th:only-of-type {\n",
       "        vertical-align: middle;\n",
       "    }\n",
       "\n",
       "    .dataframe tbody tr th {\n",
       "        vertical-align: top;\n",
       "    }\n",
       "\n",
       "    .dataframe thead th {\n",
       "        text-align: right;\n",
       "    }\n",
       "</style>\n",
       "<table border=\"1\" class=\"dataframe\">\n",
       "  <thead>\n",
       "    <tr style=\"text-align: right;\">\n",
       "      <th></th>\n",
       "      <th>src</th>\n",
       "      <th>dst</th>\n",
       "      <th>ts</th>\n",
       "    </tr>\n",
       "  </thead>\n",
       "  <tbody>\n",
       "    <tr>\n",
       "      <th>0</th>\n",
       "      <td>796351</td>\n",
       "      <td>4879572</td>\n",
       "      <td>259</td>\n",
       "    </tr>\n",
       "    <tr>\n",
       "      <th>1</th>\n",
       "      <td>933258</td>\n",
       "      <td>3311003</td>\n",
       "      <td>7864</td>\n",
       "    </tr>\n",
       "    <tr>\n",
       "      <th>2</th>\n",
       "      <td>406423</td>\n",
       "      <td>1325095</td>\n",
       "      <td>11337</td>\n",
       "    </tr>\n",
       "    <tr>\n",
       "      <th>3</th>\n",
       "      <td>406423</td>\n",
       "      <td>2976586</td>\n",
       "      <td>11831</td>\n",
       "    </tr>\n",
       "    <tr>\n",
       "      <th>4</th>\n",
       "      <td>406423</td>\n",
       "      <td>2521556</td>\n",
       "      <td>12935</td>\n",
       "    </tr>\n",
       "    <tr>\n",
       "      <th>...</th>\n",
       "      <td>...</td>\n",
       "      <td>...</td>\n",
       "      <td>...</td>\n",
       "    </tr>\n",
       "    <tr>\n",
       "      <th>100150484</th>\n",
       "      <td>56269</td>\n",
       "      <td>2814443</td>\n",
       "      <td>2108304337</td>\n",
       "    </tr>\n",
       "    <tr>\n",
       "      <th>100150485</th>\n",
       "      <td>56269</td>\n",
       "      <td>5137372</td>\n",
       "      <td>2108304348</td>\n",
       "    </tr>\n",
       "    <tr>\n",
       "      <th>100150486</th>\n",
       "      <td>56269</td>\n",
       "      <td>1527484</td>\n",
       "      <td>2108304351</td>\n",
       "    </tr>\n",
       "    <tr>\n",
       "      <th>100150487</th>\n",
       "      <td>56269</td>\n",
       "      <td>2813246</td>\n",
       "      <td>2108304574</td>\n",
       "    </tr>\n",
       "    <tr>\n",
       "      <th>100150488</th>\n",
       "      <td>212601</td>\n",
       "      <td>3137371</td>\n",
       "      <td>2122867355</td>\n",
       "    </tr>\n",
       "  </tbody>\n",
       "</table>\n",
       "<p>100150489 rows × 3 columns</p>\n",
       "</div>"
      ],
      "text/plain": [
       "              src      dst          ts\n",
       "0          796351  4879572         259\n",
       "1          933258  3311003        7864\n",
       "2          406423  1325095       11337\n",
       "3          406423  2976586       11831\n",
       "4          406423  2521556       12935\n",
       "...           ...      ...         ...\n",
       "100150484   56269  2814443  2108304337\n",
       "100150485   56269  5137372  2108304348\n",
       "100150486   56269  1527484  2108304351\n",
       "100150487   56269  2813246  2108304574\n",
       "100150488  212601  3137371  2122867355\n",
       "\n",
       "[100150489 rows x 3 columns]"
      ]
     },
     "execution_count": 94,
     "metadata": {},
     "output_type": "execute_result"
    }
   ],
   "source": [
    "# Construct df\n",
    "d = {'src': orig_edge_index[0].numpy(), 'dst': orig_edge_index[1].numpy(), 'ts': data.edge_attr.numpy()}\n",
    "df = pd.DataFrame(data=d)\n",
    "df"
   ]
  },
  {
   "cell_type": "code",
   "execution_count": 95,
   "metadata": {},
   "outputs": [],
   "source": [
    "start = 1511539200\n",
    "end = 1512316799\n",
    "df = df[(df[\"ts\"] >= start) & (df[\"ts\"] <= end)]"
   ]
  },
  {
   "cell_type": "code",
   "execution_count": 70,
   "metadata": {},
   "outputs": [
    {
     "data": {
      "text/plain": [
       "0               0\n",
       "1              36\n",
       "2              77\n",
       "3             131\n",
       "4             150\n",
       "           ...   \n",
       "157469    2678155\n",
       "157470    2678158\n",
       "157471    2678293\n",
       "157472    2678333\n",
       "157473    2678373\n",
       "Name: ts, Length: 157474, dtype: int64"
      ]
     },
     "execution_count": 70,
     "metadata": {},
     "output_type": "execute_result"
    }
   ],
   "source": [
    "df['ts']"
   ]
  },
  {
   "cell_type": "code",
   "execution_count": 103,
   "metadata": {},
   "outputs": [],
   "source": [
    "# Group by destination node\n",
    "df_dst = df.groupby('dst').agg({'ts':lambda x: list(x)})\n",
    "df_src = df.groupby('src').agg({'ts':lambda x: list(x)})"
   ]
  },
  {
   "cell_type": "code",
   "execution_count": 105,
   "metadata": {},
   "outputs": [],
   "source": [
    "df_dst['diff'] = df_dst.apply(lambda row: np.diff(sorted(row['ts'])), axis=1)\n",
    "df_src['diff'] = df_src.apply(lambda row: np.diff(sorted(row['ts'])), axis=1)"
   ]
  },
  {
   "cell_type": "code",
   "execution_count": 107,
   "metadata": {},
   "outputs": [],
   "source": [
    "df_dst = df_dst[df_dst['diff'].map(lambda d: len(d)) > 0]\n",
    "df_src = df_src[df_src['diff'].map(lambda d: len(d)) > 0]"
   ]
  },
  {
   "cell_type": "code",
   "execution_count": 104,
   "metadata": {},
   "outputs": [
    {
     "data": {
      "text/html": [
       "<div>\n",
       "<style scoped>\n",
       "    .dataframe tbody tr th:only-of-type {\n",
       "        vertical-align: middle;\n",
       "    }\n",
       "\n",
       "    .dataframe tbody tr th {\n",
       "        vertical-align: top;\n",
       "    }\n",
       "\n",
       "    .dataframe thead th {\n",
       "        text-align: right;\n",
       "    }\n",
       "</style>\n",
       "<table border=\"1\" class=\"dataframe\">\n",
       "  <thead>\n",
       "    <tr style=\"text-align: right;\">\n",
       "      <th></th>\n",
       "      <th>ts</th>\n",
       "    </tr>\n",
       "    <tr>\n",
       "      <th>dst</th>\n",
       "      <th></th>\n",
       "    </tr>\n",
       "  </thead>\n",
       "  <tbody>\n",
       "    <tr>\n",
       "      <th>987994</th>\n",
       "      <td>[1511639146, 1511940737]</td>\n",
       "    </tr>\n",
       "    <tr>\n",
       "      <th>987995</th>\n",
       "      <td>[1511625476, 1511873042]</td>\n",
       "    </tr>\n",
       "    <tr>\n",
       "      <th>987996</th>\n",
       "      <td>[1511569547, 1511593206, 1511612256]</td>\n",
       "    </tr>\n",
       "    <tr>\n",
       "      <th>987997</th>\n",
       "      <td>[1511831182, 1512275876]</td>\n",
       "    </tr>\n",
       "    <tr>\n",
       "      <th>987998</th>\n",
       "      <td>[1511673523]</td>\n",
       "    </tr>\n",
       "    <tr>\n",
       "      <th>...</th>\n",
       "      <td>...</td>\n",
       "    </tr>\n",
       "    <tr>\n",
       "      <th>5150011</th>\n",
       "      <td>[1511589623, 1511672697]</td>\n",
       "    </tr>\n",
       "    <tr>\n",
       "      <th>5150012</th>\n",
       "      <td>[1511574960, 1511622456, 1511685821, 151176376...</td>\n",
       "    </tr>\n",
       "    <tr>\n",
       "      <th>5150013</th>\n",
       "      <td>[1511752061, 1511959993, 1511974991, 1512049264]</td>\n",
       "    </tr>\n",
       "    <tr>\n",
       "      <th>5150014</th>\n",
       "      <td>[1512100588]</td>\n",
       "    </tr>\n",
       "    <tr>\n",
       "      <th>5150015</th>\n",
       "      <td>[1512044507]</td>\n",
       "    </tr>\n",
       "  </tbody>\n",
       "</table>\n",
       "<p>4161138 rows × 1 columns</p>\n",
       "</div>"
      ],
      "text/plain": [
       "                                                        ts\n",
       "dst                                                       \n",
       "987994                            [1511639146, 1511940737]\n",
       "987995                            [1511625476, 1511873042]\n",
       "987996                [1511569547, 1511593206, 1511612256]\n",
       "987997                            [1511831182, 1512275876]\n",
       "987998                                        [1511673523]\n",
       "...                                                    ...\n",
       "5150011                           [1511589623, 1511672697]\n",
       "5150012  [1511574960, 1511622456, 1511685821, 151176376...\n",
       "5150013   [1511752061, 1511959993, 1511974991, 1512049264]\n",
       "5150014                                       [1512100588]\n",
       "5150015                                       [1512044507]\n",
       "\n",
       "[4161138 rows x 1 columns]"
      ]
     },
     "execution_count": 104,
     "metadata": {},
     "output_type": "execute_result"
    }
   ],
   "source": [
    "df_dst"
   ]
  },
  {
   "cell_type": "code",
   "execution_count": 109,
   "metadata": {},
   "outputs": [
    {
     "name": "stderr",
     "output_type": "stream",
     "text": [
      "/tmp/ipykernel_591333/715503086.py:1: SettingWithCopyWarning: \n",
      "A value is trying to be set on a copy of a slice from a DataFrame.\n",
      "Try using .loc[row_indexer,col_indexer] = value instead\n",
      "\n",
      "See the caveats in the documentation: https://pandas.pydata.org/pandas-docs/stable/user_guide/indexing.html#returning-a-view-versus-a-copy\n",
      "  df_dst['diff_avg'] = df_dst.apply(lambda row: np.mean(row['diff']), axis=1)\n"
     ]
    }
   ],
   "source": [
    "df_dst['diff_avg'] = df_dst.apply(lambda row: np.mean(row['diff']), axis=1)\n",
    "df_src['diff_avg'] = df_src.apply(lambda row: np.mean(row['diff']), axis=1)"
   ]
  },
  {
   "cell_type": "code",
   "execution_count": 113,
   "metadata": {},
   "outputs": [
    {
     "data": {
      "text/plain": [
       "Text(0.5, 1.0, 'Average time difference between requests for a destination node')"
      ]
     },
     "execution_count": 113,
     "metadata": {},
     "output_type": "execute_result"
    },
    {
     "data": {
      "image/png": "[encoded data removed]",
      "text/plain": [
       "<Figure size 640x480 with 1 Axes>"
      ]
     },
     "metadata": {},
     "output_type": "display_data"
    }
   ],
   "source": [
    "x = df_dst['diff_avg']\n",
    "averages = x[~np.isnan(x)]\n",
    "\n",
    "plt.hist(averages, bins=40)\n",
    "#plt.xlim(0,800000)\n",
    "plt.yscale('log')\n",
    "plt.xlabel(\"Difference (secs)\")\n",
    "plt.ylabel(\"Frequency\")\n",
    "plt.title(\"Average time difference between requests for a destination node\")"
   ]
  },
  {
   "cell_type": "code",
   "execution_count": 114,
   "metadata": {},
   "outputs": [
    {
     "data": {
      "text/html": [
       "<div>\n",
       "<style scoped>\n",
       "    .dataframe tbody tr th:only-of-type {\n",
       "        vertical-align: middle;\n",
       "    }\n",
       "\n",
       "    .dataframe tbody tr th {\n",
       "        vertical-align: top;\n",
       "    }\n",
       "\n",
       "    .dataframe thead th {\n",
       "        text-align: right;\n",
       "    }\n",
       "</style>\n",
       "<table border=\"1\" class=\"dataframe\">\n",
       "  <thead>\n",
       "    <tr style=\"text-align: right;\">\n",
       "      <th></th>\n",
       "      <th>diff_avg</th>\n",
       "    </tr>\n",
       "  </thead>\n",
       "  <tbody>\n",
       "    <tr>\n",
       "      <th>count</th>\n",
       "      <td>2.954237e+06</td>\n",
       "    </tr>\n",
       "    <tr>\n",
       "      <th>mean</th>\n",
       "      <td>9.819905e+04</td>\n",
       "    </tr>\n",
       "    <tr>\n",
       "      <th>std</th>\n",
       "      <td>1.157575e+05</td>\n",
       "    </tr>\n",
       "    <tr>\n",
       "      <th>min</th>\n",
       "      <td>0.000000e+00</td>\n",
       "    </tr>\n",
       "    <tr>\n",
       "      <th>25%</th>\n",
       "      <td>2.267237e+04</td>\n",
       "    </tr>\n",
       "    <tr>\n",
       "      <th>50%</th>\n",
       "      <td>5.972189e+04</td>\n",
       "    </tr>\n",
       "    <tr>\n",
       "      <th>75%</th>\n",
       "      <td>1.268595e+05</td>\n",
       "    </tr>\n",
       "    <tr>\n",
       "      <th>max</th>\n",
       "      <td>7.759440e+05</td>\n",
       "    </tr>\n",
       "  </tbody>\n",
       "</table>\n",
       "</div>"
      ],
      "text/plain": [
       "           diff_avg\n",
       "count  2.954237e+06\n",
       "mean   9.819905e+04\n",
       "std    1.157575e+05\n",
       "min    0.000000e+00\n",
       "25%    2.267237e+04\n",
       "50%    5.972189e+04\n",
       "75%    1.268595e+05\n",
       "max    7.759440e+05"
      ]
     },
     "execution_count": 114,
     "metadata": {},
     "output_type": "execute_result"
    }
   ],
   "source": [
    "df_describe = pd.DataFrame(averages)\n",
    "df_describe.describe()"
   ]
  },
  {
   "cell_type": "code",
   "execution_count": 125,
   "metadata": {},
   "outputs": [
    {
     "name": "stdout",
     "output_type": "stream",
     "text": [
      "2954237\n",
      "180694\n"
     ]
    }
   ],
   "source": [
    "print(len(df_dst))\n",
    "print(len(df_dst[df_dst['diff'].map(len) > 100]))\n",
    "\n",
    "long_df_dst = df_dst[df_dst['diff'].map(len) > 50]\n"
   ]
  },
  {
   "cell_type": "code",
   "execution_count": 136,
   "metadata": {},
   "outputs": [],
   "source": [
    "y = long_df_dst.iloc[3]['diff']"
   ]
  },
  {
   "cell_type": "code",
   "execution_count": 137,
   "metadata": {},
   "outputs": [
    {
     "data": {
      "text/html": [
       "<div>\n",
       "<style scoped>\n",
       "    .dataframe tbody tr th:only-of-type {\n",
       "        vertical-align: middle;\n",
       "    }\n",
       "\n",
       "    .dataframe tbody tr th {\n",
       "        vertical-align: top;\n",
       "    }\n",
       "\n",
       "    .dataframe thead th {\n",
       "        text-align: right;\n",
       "    }\n",
       "</style>\n",
       "<table border=\"1\" class=\"dataframe\">\n",
       "  <thead>\n",
       "    <tr style=\"text-align: right;\">\n",
       "      <th></th>\n",
       "      <th>0</th>\n",
       "    </tr>\n",
       "  </thead>\n",
       "  <tbody>\n",
       "    <tr>\n",
       "      <th>count</th>\n",
       "      <td>99.000000</td>\n",
       "    </tr>\n",
       "    <tr>\n",
       "      <th>mean</th>\n",
       "      <td>7831.737374</td>\n",
       "    </tr>\n",
       "    <tr>\n",
       "      <th>std</th>\n",
       "      <td>11615.392179</td>\n",
       "    </tr>\n",
       "    <tr>\n",
       "      <th>min</th>\n",
       "      <td>8.000000</td>\n",
       "    </tr>\n",
       "    <tr>\n",
       "      <th>25%</th>\n",
       "      <td>650.500000</td>\n",
       "    </tr>\n",
       "    <tr>\n",
       "      <th>50%</th>\n",
       "      <td>3132.000000</td>\n",
       "    </tr>\n",
       "    <tr>\n",
       "      <th>75%</th>\n",
       "      <td>8577.000000</td>\n",
       "    </tr>\n",
       "    <tr>\n",
       "      <th>max</th>\n",
       "      <td>51510.000000</td>\n",
       "    </tr>\n",
       "  </tbody>\n",
       "</table>\n",
       "</div>"
      ],
      "text/plain": [
       "                  0\n",
       "count     99.000000\n",
       "mean    7831.737374\n",
       "std    11615.392179\n",
       "min        8.000000\n",
       "25%      650.500000\n",
       "50%     3132.000000\n",
       "75%     8577.000000\n",
       "max    51510.000000"
      ]
     },
     "execution_count": 137,
     "metadata": {},
     "output_type": "execute_result"
    }
   ],
   "source": [
    "df_describe = pd.DataFrame(y)\n",
    "df_describe.describe()"
   ]
  },
  {
   "cell_type": "code",
   "execution_count": 135,
   "metadata": {},
   "outputs": [
    {
     "data": {
      "text/plain": [
       "1.5232461746982764"
      ]
     },
     "execution_count": 135,
     "metadata": {},
     "output_type": "execute_result"
    }
   ],
   "source": [
    "(3715.432)/2439.154"
   ]
  },
  {
   "cell_type": "code",
   "execution_count": 138,
   "metadata": {},
   "outputs": [
    {
     "data": {
      "image/png": "[encoded data removed]",
      "text/plain": [
       "<Figure size 640x480 with 1 Axes>"
      ]
     },
     "metadata": {},
     "output_type": "display_data"
    }
   ],
   "source": [
    "import matplotlib.pyplot as plt\n",
    "import numpy as np\n",
    "\n",
    "x = np.arange(len(y))\n",
    "\n",
    "fig, ax = plt.subplots()\n",
    "ax.stem(x, y, markerfmt=' ', basefmt= 'C0')\n",
    "plt.show()"
   ]
  },
  {
   "cell_type": "code",
   "execution_count": 43,
   "metadata": {},
   "outputs": [],
   "source": [
    "dst_all = np.hstack(df_dst['diff'])\n",
    "# Filter out time different greater than 2 weeks\n",
    "dst_all = dst_all[dst_all < 1209600]\n",
    "src_all = np.hstack(df_src['diff'])\n",
    "src_all = src_all[src_all < 1209600]"
   ]
  },
  {
   "cell_type": "code",
   "execution_count": 98,
   "metadata": {},
   "outputs": [
    {
     "data": {
      "text/plain": [
       "4161138"
      ]
     },
     "execution_count": 98,
     "metadata": {},
     "output_type": "execute_result"
    }
   ],
   "source": [
    "len(df_dst['diff'])"
   ]
  },
  {
   "cell_type": "code",
   "execution_count": 116,
   "metadata": {},
   "outputs": [
    {
     "data": {
      "text/html": [
       "<div>\n",
       "<style scoped>\n",
       "    .dataframe tbody tr th:only-of-type {\n",
       "        vertical-align: middle;\n",
       "    }\n",
       "\n",
       "    .dataframe tbody tr th {\n",
       "        vertical-align: top;\n",
       "    }\n",
       "\n",
       "    .dataframe thead th {\n",
       "        text-align: right;\n",
       "    }\n",
       "</style>\n",
       "<table border=\"1\" class=\"dataframe\">\n",
       "  <thead>\n",
       "    <tr style=\"text-align: right;\">\n",
       "      <th></th>\n",
       "      <th>0</th>\n",
       "    </tr>\n",
       "  </thead>\n",
       "  <tbody>\n",
       "    <tr>\n",
       "      <th>count</th>\n",
       "      <td>9.593409e+07</td>\n",
       "    </tr>\n",
       "    <tr>\n",
       "      <th>mean</th>\n",
       "      <td>1.484467e+04</td>\n",
       "    </tr>\n",
       "    <tr>\n",
       "      <th>std</th>\n",
       "      <td>4.645794e+04</td>\n",
       "    </tr>\n",
       "    <tr>\n",
       "      <th>min</th>\n",
       "      <td>0.000000e+00</td>\n",
       "    </tr>\n",
       "    <tr>\n",
       "      <th>25%</th>\n",
       "      <td>2.440000e+02</td>\n",
       "    </tr>\n",
       "    <tr>\n",
       "      <th>50%</th>\n",
       "      <td>1.259000e+03</td>\n",
       "    </tr>\n",
       "    <tr>\n",
       "      <th>75%</th>\n",
       "      <td>7.088000e+03</td>\n",
       "    </tr>\n",
       "    <tr>\n",
       "      <th>max</th>\n",
       "      <td>7.759440e+05</td>\n",
       "    </tr>\n",
       "  </tbody>\n",
       "</table>\n",
       "</div>"
      ],
      "text/plain": [
       "                  0\n",
       "count  9.593409e+07\n",
       "mean   1.484467e+04\n",
       "std    4.645794e+04\n",
       "min    0.000000e+00\n",
       "25%    2.440000e+02\n",
       "50%    1.259000e+03\n",
       "75%    7.088000e+03\n",
       "max    7.759440e+05"
      ]
     },
     "execution_count": 116,
     "metadata": {},
     "output_type": "execute_result"
    }
   ],
   "source": [
    "\n",
    "df_describe = pd.DataFrame(dst_all)\n",
    "df_describe.describe()"
   ]
  },
  {
   "cell_type": "code",
   "execution_count": 184,
   "metadata": {},
   "outputs": [
    {
     "data": {
      "text/plain": [
       "Text(0, 0.5, 'Frequency')"
      ]
     },
     "execution_count": 184,
     "metadata": {},
     "output_type": "execute_result"
    },
    {
     "data": {
      "image/png": "[encoded data removed]",
      "text/plain": [
       "<Figure size 640x480 with 1 Axes>"
      ]
     },
     "metadata": {},
     "output_type": "display_data"
    }
   ],
   "source": [
    "plt.hist(dst_all, bins=1000, alpha=0.5, label='destination', range=(0,10000))\n",
    "plt.hist(src_all, bins=1000, alpha=0.5, label='source', range=(0,10000))\n",
    "plt.xlim(0,10000)\n",
    "plt.yscale('log')\n",
    "plt.xlabel(\"Time difference in seconds\")\n",
    "plt.legend(loc='upper right')\n",
    "plt.ylabel(\"Frequency\")\n",
    "#plt.title(\"Time difference between interaction of destination nodes\")"
   ]
  },
  {
   "cell_type": "code",
   "execution_count": null,
   "metadata": {},
   "outputs": [],
   "source": [
    "# Based on this how can we be sure that there is in fact a correlation between the occurance of a request and "
   ]
  },
  {
   "cell_type": "code",
   "execution_count": 165,
   "metadata": {},
   "outputs": [
    {
     "name": "stderr",
     "output_type": "stream",
     "text": [
      "/tmp/ipykernel_591333/1884641286.py:1: SettingWithCopyWarning: \n",
      "A value is trying to be set on a copy of a slice from a DataFrame.\n",
      "Try using .loc[row_indexer,col_indexer] = value instead\n",
      "\n",
      "See the caveats in the documentation: https://pandas.pydata.org/pandas-docs/stable/user_guide/indexing.html#returning-a-view-versus-a-copy\n",
      "  df_dst['diff_len'] = df_dst.apply(lambda row: len(row['diff']), axis=1)\n"
     ]
    }
   ],
   "source": [
    "df_dst['diff_len'] = df_dst.apply(lambda row: len(row['diff']), axis=1)\n",
    "df_src['diff_len'] = df_src.apply(lambda row: len(row['ts']), axis=1)"
   ]
  },
  {
   "cell_type": "code",
   "execution_count": 168,
   "metadata": {},
   "outputs": [],
   "source": [
    "dst_len_all = np.hstack(df_dst['diff_len'])\n",
    "src_len_all = np.hstack(df_src['diff_len'])"
   ]
  },
  {
   "cell_type": "code",
   "execution_count": 176,
   "metadata": {},
   "outputs": [
    {
     "data": {
      "text/plain": [
       "Text(0, 0.5, 'Frequency')"
      ]
     },
     "execution_count": 176,
     "metadata": {},
     "output_type": "execute_result"
    },
    {
     "data": {
      "image/png": "[encoded data removed]",
      "text/plain": [
       "<Figure size 640x480 with 1 Axes>"
      ]
     },
     "metadata": {},
     "output_type": "display_data"
    }
   ],
   "source": [
    "plt.hist(dst_len_all, bins=300, alpha=0.5, label='destination')\n",
    "plt.hist(src_len_all, bins=50, alpha=0.5, label='source')\n",
    "plt.xlim(0,10000)\n",
    "plt.yscale('log')\n",
    "plt.xlabel(\"Number of interactions\")\n",
    "plt.legend(loc='upper right')\n",
    "plt.ylabel(\"Frequency\")\n",
    "#plt.title(\"Time difference between interaction of destination nodes\")"
   ]
  },
  {
   "cell_type": "code",
   "execution_count": 80,
   "metadata": {},
   "outputs": [
    {
     "data": {
      "text/plain": [
       "Text(0.5, 1.0, 'Time difference between interaction of destination nodes')"
      ]
     },
     "execution_count": 80,
     "metadata": {},
     "output_type": "execute_result"
    },
    {
     "data": {
      "image/png": "[encoded data removed]",
      "text/plain": [
       "<Figure size 640x480 with 1 Axes>"
      ]
     },
     "metadata": {},
     "output_type": "display_data"
    }
   ],
   "source": [
    "plt.hist(src_all, bins=40)\n",
    "#plt.xlim(0,800000)\n",
    "plt.yscale('log')\n",
    "plt.xlabel(\"Difference (secs)\")\n",
    "plt.ylabel(\"Frequency\")\n",
    "plt.title(\"Time difference between interaction of destination nodes\")"
   ]
  },
  {
   "cell_type": "code",
   "execution_count": 51,
   "metadata": {},
   "outputs": [
    {
     "data": {
      "text/plain": [
       "Text(0.5, 1.0, 'Time difference between interaction of destination nodes')"
      ]
     },
     "execution_count": 51,
     "metadata": {},
     "output_type": "execute_result"
    },
    {
     "data": {
      "image/png": "[encoded data removed]",
      "text/plain": [
       "<Figure size 640x480 with 1 Axes>"
      ]
     },
     "metadata": {},
     "output_type": "display_data"
    }
   ],
   "source": [
    "plt.hist(np.concatenate((dst_all, src_all)), bins=2000)\n",
    "plt.xlim(0,800000)\n",
    "plt.yscale('log')\n",
    "plt.xlabel(\"Difference (secs)\")\n",
    "plt.ylabel(\"Frequency\")\n",
    "plt.title(\"Time difference between interaction of destination nodes\")"
   ]
  },
  {
   "cell_type": "code",
   "execution_count": 156,
   "metadata": {},
   "outputs": [
    {
     "name": "stderr",
     "output_type": "stream",
     "text": [
      "/tmp/ipykernel_591333/1236275552.py:10: UserWarning: FixedFormatter should only be used together with FixedLocator\n",
      "  ax.set_xticklabels(labels)\n"
     ]
    },
    {
     "data": {
      "text/plain": [
       "Text(0.5, 0, 'Date of interactions')"
      ]
     },
     "execution_count": 156,
     "metadata": {},
     "output_type": "execute_result"
    },
    {
     "data": {
      "image/png": "[encoded data removed]",
      "text/plain": [
       "<Figure size 800x480 with 1 Axes>"
      ]
     },
     "metadata": {},
     "output_type": "display_data"
    }
   ],
   "source": [
    "import matplotlib.pyplot as plt\n",
    "import numpy as np\n",
    "\n",
    "fig, ax = plt.subplots()\n",
    "\n",
    "plt.hist(df['ts'], bins=300)\n",
    "#plt.yscale('log')\n",
    "labels = ['25.11.17', '26.11.17', '27.11.17', '28.11.17', '29.11.17', '30.11.17', '31.11.17', '01.12.17', '02.12.17']\n",
    "\n",
    "ax.set_xticklabels(labels)\n",
    "fig.set_figwidth(8)\n",
    "plt.ylabel(\"Frequency\")\n",
    "plt.xlabel(\"Date of interactions\")\n",
    "#labels=[1,2,3,4,5,6,7,8]\n",
    "#plt.xticks(np.arange(-3, 3, 0.5))"
   ]
  },
  {
   "cell_type": "code",
   "execution_count": null,
   "metadata": {},
   "outputs": [],
   "source": []
  }
 ],
 "metadata": {
  "kernelspec": {
   "display_name": "gnn",
   "language": "python",
   "name": "python3"
  },
  "language_info": {
   "codemirror_mode": {
    "name": "ipython",
    "version": 3
   },
   "file_extension": ".py",
   "mimetype": "text/x-python",
   "name": "python",
   "nbconvert_exporter": "python",
   "pygments_lexer": "ipython3",
   "version": "3.10.8"
  },
  "orig_nbformat": 4,
  "vscode": {
   "interpreter": {
    "hash": "73986a8f3bce3efd6c5bb7f072a0fcc3be48ec97f1ec1ace688ac1bc99e481cd"
   }
  }
 },
 "nbformat": 4,
 "nbformat_minor": 2
}
