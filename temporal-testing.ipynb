{
 "cells": [
  {
   "cell_type": "code",
   "execution_count": 1,
   "metadata": {},
   "outputs": [],
   "source": [
    "import json\n",
    "import numpy as np\n",
    "import pandas as pd\n",
    "from pathlib import Path\n",
    "import argparse"
   ]
  },
  {
   "cell_type": "code",
   "execution_count": 2,
   "metadata": {},
   "outputs": [],
   "source": [
    "def preprocess(data_name):\n",
    "  src_list, dst_list, ts_list = [], [], []\n",
    "\n",
    "  with open(data_name) as f:\n",
    "    for idx, line in enumerate(f):\n",
    "      e = line.strip().split(' ')\n",
    "      src = int(e[0])\n",
    "      dst = int(e[1])\n",
    "\n",
    "      ts = float(e[2])\n",
    "\n",
    "      src_list.append(src)\n",
    "      dst_list.append(dst)\n",
    "      ts_list.append(ts)\n",
    "\n",
    "  return pd.DataFrame({'src': src_list,\n",
    "                       'dst': dst_list,\n",
    "                       'ts': ts_list})"
   ]
  },
  {
   "cell_type": "code",
   "execution_count": 3,
   "metadata": {},
   "outputs": [],
   "source": [
    "data_name = \"sx-stackoverflow\"\n",
    "PATH = './data/{}.txt'.format(data_name)\n",
    "OUT_DF = './data/ml_{}.csv'.format(data_name)\n",
    "\n",
    "#df = preprocess(PATH)"
   ]
  },
  {
   "cell_type": "code",
   "execution_count": 4,
   "metadata": {},
   "outputs": [],
   "source": [
    "df = pd.read_csv('./data/ml_{}.csv'.format(data_name))"
   ]
  },
  {
   "cell_type": "code",
   "execution_count": 5,
   "metadata": {},
   "outputs": [
    {
     "data": {
      "text/html": [
       "<div>\n",
       "<style scoped>\n",
       "    .dataframe tbody tr th:only-of-type {\n",
       "        vertical-align: middle;\n",
       "    }\n",
       "\n",
       "    .dataframe tbody tr th {\n",
       "        vertical-align: top;\n",
       "    }\n",
       "\n",
       "    .dataframe thead th {\n",
       "        text-align: right;\n",
       "    }\n",
       "</style>\n",
       "<table border=\"1\" class=\"dataframe\">\n",
       "  <thead>\n",
       "    <tr style=\"text-align: right;\">\n",
       "      <th></th>\n",
       "      <th>Unnamed: 0</th>\n",
       "      <th>src</th>\n",
       "      <th>dst</th>\n",
       "      <th>ts</th>\n",
       "    </tr>\n",
       "  </thead>\n",
       "  <tbody>\n",
       "    <tr>\n",
       "      <th>0</th>\n",
       "      <td>0</td>\n",
       "      <td>9</td>\n",
       "      <td>8</td>\n",
       "      <td>1.217568e+09</td>\n",
       "    </tr>\n",
       "    <tr>\n",
       "      <th>1</th>\n",
       "      <td>1</td>\n",
       "      <td>1</td>\n",
       "      <td>1</td>\n",
       "      <td>1.217574e+09</td>\n",
       "    </tr>\n",
       "    <tr>\n",
       "      <th>2</th>\n",
       "      <td>2</td>\n",
       "      <td>13</td>\n",
       "      <td>1</td>\n",
       "      <td>1.217606e+09</td>\n",
       "    </tr>\n",
       "    <tr>\n",
       "      <th>3</th>\n",
       "      <td>3</td>\n",
       "      <td>17</td>\n",
       "      <td>1</td>\n",
       "      <td>1.217618e+09</td>\n",
       "    </tr>\n",
       "    <tr>\n",
       "      <th>4</th>\n",
       "      <td>4</td>\n",
       "      <td>48</td>\n",
       "      <td>2</td>\n",
       "      <td>1.217618e+09</td>\n",
       "    </tr>\n",
       "    <tr>\n",
       "      <th>...</th>\n",
       "      <td>...</td>\n",
       "      <td>...</td>\n",
       "      <td>...</td>\n",
       "      <td>...</td>\n",
       "    </tr>\n",
       "    <tr>\n",
       "      <th>63497045</th>\n",
       "      <td>63497045</td>\n",
       "      <td>4049257</td>\n",
       "      <td>3816212</td>\n",
       "      <td>1.457273e+09</td>\n",
       "    </tr>\n",
       "    <tr>\n",
       "      <th>63497046</th>\n",
       "      <td>63497046</td>\n",
       "      <td>3507137</td>\n",
       "      <td>1801524</td>\n",
       "      <td>1.457273e+09</td>\n",
       "    </tr>\n",
       "    <tr>\n",
       "      <th>63497047</th>\n",
       "      <td>63497047</td>\n",
       "      <td>144088</td>\n",
       "      <td>275047</td>\n",
       "      <td>1.457273e+09</td>\n",
       "    </tr>\n",
       "    <tr>\n",
       "      <th>63497048</th>\n",
       "      <td>63497048</td>\n",
       "      <td>5617035</td>\n",
       "      <td>4368648</td>\n",
       "      <td>1.457273e+09</td>\n",
       "    </tr>\n",
       "    <tr>\n",
       "      <th>63497049</th>\n",
       "      <td>63497049</td>\n",
       "      <td>5579164</td>\n",
       "      <td>5579164</td>\n",
       "      <td>1.457273e+09</td>\n",
       "    </tr>\n",
       "  </tbody>\n",
       "</table>\n",
       "<p>63497050 rows × 4 columns</p>\n",
       "</div>"
      ],
      "text/plain": [
       "          Unnamed: 0      src      dst            ts\n",
       "0                  0        9        8  1.217568e+09\n",
       "1                  1        1        1  1.217574e+09\n",
       "2                  2       13        1  1.217606e+09\n",
       "3                  3       17        1  1.217618e+09\n",
       "4                  4       48        2  1.217618e+09\n",
       "...              ...      ...      ...           ...\n",
       "63497045    63497045  4049257  3816212  1.457273e+09\n",
       "63497046    63497046  3507137  1801524  1.457273e+09\n",
       "63497047    63497047   144088   275047  1.457273e+09\n",
       "63497048    63497048  5617035  4368648  1.457273e+09\n",
       "63497049    63497049  5579164  5579164  1.457273e+09\n",
       "\n",
       "[63497050 rows x 4 columns]"
      ]
     },
     "execution_count": 5,
     "metadata": {},
     "output_type": "execute_result"
    }
   ],
   "source": [
    "df"
   ]
  },
  {
   "cell_type": "code",
   "execution_count": 6,
   "metadata": {},
   "outputs": [
    {
     "data": {
      "text/html": [
       "<div>\n",
       "<style scoped>\n",
       "    .dataframe tbody tr th:only-of-type {\n",
       "        vertical-align: middle;\n",
       "    }\n",
       "\n",
       "    .dataframe tbody tr th {\n",
       "        vertical-align: top;\n",
       "    }\n",
       "\n",
       "    .dataframe thead th {\n",
       "        text-align: right;\n",
       "    }\n",
       "</style>\n",
       "<table border=\"1\" class=\"dataframe\">\n",
       "  <thead>\n",
       "    <tr style=\"text-align: right;\">\n",
       "      <th></th>\n",
       "      <th>ts</th>\n",
       "    </tr>\n",
       "    <tr>\n",
       "      <th>dst</th>\n",
       "      <th></th>\n",
       "    </tr>\n",
       "  </thead>\n",
       "  <tbody>\n",
       "    <tr>\n",
       "      <th>1</th>\n",
       "      <td>[1217573801.0, 1217606247.0, 1217617639.0, 121...</td>\n",
       "    </tr>\n",
       "    <tr>\n",
       "      <th>2</th>\n",
       "      <td>[1217618182.0, 1217625055.0, 1217714233.0, 121...</td>\n",
       "    </tr>\n",
       "    <tr>\n",
       "      <th>3</th>\n",
       "      <td>[1226725170.0, 1231933265.0, 1231937597.0, 123...</td>\n",
       "    </tr>\n",
       "    <tr>\n",
       "      <th>4</th>\n",
       "      <td>[1221494273.0, 1221906984.0, 1221908021.0, 122...</td>\n",
       "    </tr>\n",
       "    <tr>\n",
       "      <th>5</th>\n",
       "      <td>[1218160607.0, 1218160858.0, 1218160865.0, 121...</td>\n",
       "    </tr>\n",
       "    <tr>\n",
       "      <th>...</th>\n",
       "      <td>...</td>\n",
       "    </tr>\n",
       "    <tr>\n",
       "      <th>6024256</th>\n",
       "      <td>[1457266570.0, 1457266693.0, 1457266782.0]</td>\n",
       "    </tr>\n",
       "    <tr>\n",
       "      <th>6024257</th>\n",
       "      <td>[1457271570.0, 1457272980.0]</td>\n",
       "    </tr>\n",
       "    <tr>\n",
       "      <th>6024258</th>\n",
       "      <td>[1457266362.0, 1457266678.0, 1457266762.0, 145...</td>\n",
       "    </tr>\n",
       "    <tr>\n",
       "      <th>6024260</th>\n",
       "      <td>[1457266629.0, 1457266684.0, 1457266750.0, 145...</td>\n",
       "    </tr>\n",
       "    <tr>\n",
       "      <th>6024270</th>\n",
       "      <td>[1457266754.0, 1457266785.0]</td>\n",
       "    </tr>\n",
       "  </tbody>\n",
       "</table>\n",
       "<p>2296666 rows × 1 columns</p>\n",
       "</div>"
      ],
      "text/plain": [
       "                                                        ts\n",
       "dst                                                       \n",
       "1        [1217573801.0, 1217606247.0, 1217617639.0, 121...\n",
       "2        [1217618182.0, 1217625055.0, 1217714233.0, 121...\n",
       "3        [1226725170.0, 1231933265.0, 1231937597.0, 123...\n",
       "4        [1221494273.0, 1221906984.0, 1221908021.0, 122...\n",
       "5        [1218160607.0, 1218160858.0, 1218160865.0, 121...\n",
       "...                                                    ...\n",
       "6024256         [1457266570.0, 1457266693.0, 1457266782.0]\n",
       "6024257                       [1457271570.0, 1457272980.0]\n",
       "6024258  [1457266362.0, 1457266678.0, 1457266762.0, 145...\n",
       "6024260  [1457266629.0, 1457266684.0, 1457266750.0, 145...\n",
       "6024270                       [1457266754.0, 1457266785.0]\n",
       "\n",
       "[2296666 rows x 1 columns]"
      ]
     },
     "execution_count": 6,
     "metadata": {},
     "output_type": "execute_result"
    }
   ],
   "source": [
    "df_group = df.groupby('dst').agg({'ts':lambda x: list(x)})\n",
    "df_group"
   ]
  },
  {
   "cell_type": "code",
   "execution_count": 7,
   "metadata": {},
   "outputs": [],
   "source": [
    "df_group['diff'] = df_group.apply(lambda row: np.diff(sorted(row['ts'])), axis=1)"
   ]
  },
  {
   "cell_type": "code",
   "execution_count": 9,
   "metadata": {},
   "outputs": [
    {
     "data": {
      "text/plain": [
       "Text(0.5, 1.0, 'Time difference between single dest node')"
      ]
     },
     "execution_count": 9,
     "metadata": {},
     "output_type": "execute_result"
    },
    {
     "data": {
      "image/png": "[encoded data removed]",
      "text/plain": [
       "<Figure size 640x480 with 1 Axes>"
      ]
     },
     "metadata": {},
     "output_type": "display_data"
    }
   ],
   "source": [
    "import matplotlib.pyplot as plt\n",
    "plt.hist(df_group['diff'].iloc[1], bins=200)\n",
    "plt.xlabel(\"Difference (secs)\")\n",
    "plt.ylabel(\"Frequency\")\n",
    "plt.title(\"Time difference between single dest node\")"
   ]
  },
  {
   "cell_type": "code",
   "execution_count": 10,
   "metadata": {},
   "outputs": [],
   "source": [
    "all = np.hstack(df_group['diff'])"
   ]
  },
  {
   "cell_type": "code",
   "execution_count": 11,
   "metadata": {},
   "outputs": [],
   "source": [
    "# Filter out time different greater than 2 weeks\n",
    "filter_arr = all[all < 1209600]\n",
    "len(filter_arr)"
   ]
  },
  {
   "cell_type": "code",
   "execution_count": 13,
   "metadata": {},
   "outputs": [
    {
     "data": {
      "text/plain": [
       "61200384"
      ]
     },
     "execution_count": 13,
     "metadata": {},
     "output_type": "execute_result"
    }
   ],
   "source": [
    "len(all)"
   ]
  },
  {
   "cell_type": "code",
   "execution_count": 24,
   "metadata": {},
   "outputs": [
    {
     "name": "stdout",
     "output_type": "stream",
     "text": [
      "[58607140   695455   357559 ...        1        0        1]\n",
      "[0.000000e+00 2.159000e+00 4.318000e+00 ... 8.631682e+03 8.633841e+03\n",
      " 8.636000e+03]\n"
     ]
    }
   ],
   "source": [
    "counts, bin_edges = np.histogram(filter_arr, bins=4000)\n",
    "print(counts)\n",
    "print(bin_edges)"
   ]
  },
  {
   "cell_type": "code",
   "execution_count": 38,
   "metadata": {},
   "outputs": [
    {
     "data": {
      "text/html": [
       "<div>\n",
       "<style scoped>\n",
       "    .dataframe tbody tr th:only-of-type {\n",
       "        vertical-align: middle;\n",
       "    }\n",
       "\n",
       "    .dataframe tbody tr th {\n",
       "        vertical-align: top;\n",
       "    }\n",
       "\n",
       "    .dataframe thead th {\n",
       "        text-align: right;\n",
       "    }\n",
       "</style>\n",
       "<table border=\"1\" class=\"dataframe\">\n",
       "  <thead>\n",
       "    <tr style=\"text-align: right;\">\n",
       "      <th></th>\n",
       "      <th>0</th>\n",
       "    </tr>\n",
       "  </thead>\n",
       "  <tbody>\n",
       "    <tr>\n",
       "      <th>count</th>\n",
       "      <td>6.120038e+07</td>\n",
       "    </tr>\n",
       "    <tr>\n",
       "      <th>mean</th>\n",
       "      <td>3.813114e+00</td>\n",
       "    </tr>\n",
       "    <tr>\n",
       "      <th>std</th>\n",
       "      <td>6.408714e+02</td>\n",
       "    </tr>\n",
       "    <tr>\n",
       "      <th>min</th>\n",
       "      <td>0.000000e+00</td>\n",
       "    </tr>\n",
       "    <tr>\n",
       "      <th>25%</th>\n",
       "      <td>0.000000e+00</td>\n",
       "    </tr>\n",
       "    <tr>\n",
       "      <th>50%</th>\n",
       "      <td>0.000000e+00</td>\n",
       "    </tr>\n",
       "    <tr>\n",
       "      <th>75%</th>\n",
       "      <td>0.000000e+00</td>\n",
       "    </tr>\n",
       "    <tr>\n",
       "      <th>max</th>\n",
       "      <td>1.975180e+06</td>\n",
       "    </tr>\n",
       "  </tbody>\n",
       "</table>\n",
       "</div>"
      ],
      "text/plain": [
       "                  0\n",
       "count  6.120038e+07\n",
       "mean   3.813114e+00\n",
       "std    6.408714e+02\n",
       "min    0.000000e+00\n",
       "25%    0.000000e+00\n",
       "50%    0.000000e+00\n",
       "75%    0.000000e+00\n",
       "max    1.975180e+06"
      ]
     },
     "execution_count": 38,
     "metadata": {},
     "output_type": "execute_result"
    }
   ],
   "source": [
    "df_describe = pd.DataFrame(all)\n",
    "df_describe.describe()"
   ]
  },
  {
   "cell_type": "code",
   "execution_count": 15,
   "metadata": {},
   "outputs": [
    {
     "data": {
      "text/plain": [
       "Text(0.5, 1.0, 'Time difference between interaction of destination nodes')"
      ]
     },
     "execution_count": 15,
     "metadata": {},
     "output_type": "execute_result"
    },
    {
     "data": {
      "image/png": "[encoded data removed]",
      "text/plain": [
       "<Figure size 640x480 with 1 Axes>"
      ]
     },
     "metadata": {},
     "output_type": "display_data"
    }
   ],
   "source": [
    "plt.hist(filter_arr, bins=2000)\n",
    "plt.xlim(0,100000)\n",
    "plt.xlabel(\"Difference (secs)\")\n",
    "plt.ylabel(\"Frequency\")\n",
    "plt.title(\"Time difference between interaction of destination nodes\")"
   ]
  },
  {
   "cell_type": "code",
   "execution_count": 42,
   "metadata": {},
   "outputs": [
    {
     "data": {
      "text/plain": [
       "Text(0.5, 1.0, 'Time difference between interaction in 1000 destination nodes')"
      ]
     },
     "execution_count": 42,
     "metadata": {},
     "output_type": "execute_result"
    },
    {
     "data": {
      "image/png": "[encoded data removed]",
      "text/plain": [
       "<Figure size 640x480 with 1 Axes>"
      ]
     },
     "metadata": {},
     "output_type": "display_data"
    }
   ],
   "source": [
    "all_10k = np.hstack(df_group['diff'].loc[:1000])\n",
    "all_10k = all_10k[all_10k < 1209600]\n",
    "plt.hist(all_10k, bins=200)\n",
    "plt.xlim(0,100000)\n",
    "plt.xlabel(\"Difference (secs)\")\n",
    "plt.ylabel(\"Frequency\")\n",
    "plt.title(\"Time difference between interaction in 1000 destination nodes\")\n"
   ]
  },
  {
   "cell_type": "code",
   "execution_count": 28,
   "metadata": {},
   "outputs": [
    {
     "data": {
      "text/plain": [
       "186552"
      ]
     },
     "execution_count": 28,
     "metadata": {},
     "output_type": "execute_result"
    }
   ],
   "source": [
    "len(all_10k)"
   ]
  },
  {
   "cell_type": "code",
   "execution_count": 27,
   "metadata": {},
   "outputs": [
    {
     "data": {
      "text/plain": [
       "dst\n",
       "1       [32446.0, 11392.0, 600.0, 34133.0, 231074.0, 1...\n",
       "2       [6873.0, 89178.0, 140848.0, 335.0, 1764.0, 365...\n",
       "3       [957426.0, 10159.0, 143352.0, 140805.0, 403749...\n",
       "4       [1693079.0, 423374.0, 91914.0, 122454.0, 19834...\n",
       "5       [251.0, 7.0, 55.0, 680679.0, 277971.0, 151.0, ...\n",
       "                              ...                        \n",
       "996     [265.0, 371.0, 461.0, 540.0, 296151.0, 2126.0,...\n",
       "997     [2242.0, 1195905.0, 877.0, 670.0, 2928791.0, 9...\n",
       "998     [616.0, 2351.0, 65842.0, 598.0, 2382.0, 116832...\n",
       "999     [7390.0, 623.0, 2390458.0, 564.0, 164487.0, 78...\n",
       "1000    [242.0, 1.0, 4033.0, 4376.0, 544.0, 79385.0, 3...\n",
       "Name: diff, Length: 727, dtype: object"
      ]
     },
     "execution_count": 27,
     "metadata": {},
     "output_type": "execute_result"
    }
   ],
   "source": [
    "df_group['diff'].loc[:1000]"
   ]
  },
  {
   "cell_type": "code",
   "execution_count": null,
   "metadata": {},
   "outputs": [],
   "source": []
  }
 ],
 "metadata": {
  "kernelspec": {
   "display_name": "gnn",
   "language": "python",
   "name": "python3"
  },
  "language_info": {
   "codemirror_mode": {
    "name": "ipython",
    "version": 3
   },
   "file_extension": ".py",
   "mimetype": "text/x-python",
   "name": "python",
   "nbconvert_exporter": "python",
   "pygments_lexer": "ipython3",
   "version": "3.10.8"
  },
  "orig_nbformat": 4,
  "vscode": {
   "interpreter": {
    "hash": "73986a8f3bce3efd6c5bb7f072a0fcc3be48ec97f1ec1ace688ac1bc99e481cd"
   }
  }
 },
 "nbformat": 4,
 "nbformat_minor": 2
}
