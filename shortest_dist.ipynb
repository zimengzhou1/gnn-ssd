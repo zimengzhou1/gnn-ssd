{
 "cells": [
  {
   "cell_type": "code",
   "execution_count": 1,
   "metadata": {},
   "outputs": [],
   "source": [
    "import os.path as osp\n",
    "import os\n",
    "import torch\n",
    "from overflowDataset import OverFlowDataset\n",
    "from torch_geometric.datasets import JODIEDataset\n",
    "from tqdm import tqdm\n",
    "from neighbor_sampler import NeighborSampler\n",
    "import scipy\n",
    "import numpy as np\n",
    "from collections import OrderedDict\n",
    "from torch_geometric.data import Data\n",
    "from torch_geometric.utils import to_undirected\n",
    "from torch_geometric.utils import to_networkx\n",
    "import networkx as nx\n",
    "\n",
    "# Set arguments\n",
    "# Percentage of data to sample from\n",
    "subsetPerc = 10\n",
    "\n",
    "# CPU cache percentage of nodes\n",
    "CPUCachePerc = 100\n",
    "\n",
    "# Datset to use\n",
    "dataName = 'reddit' # 'overflow', 'taobao' , 'reddit', wiki'\n"
   ]
  },
  {
   "cell_type": "code",
   "execution_count": 2,
   "metadata": {},
   "outputs": [
    {
     "name": "stdout",
     "output_type": "stream",
     "text": [
      "Loading dataset  reddit ...\n",
      "Data(x=[672447, 172], edge_index=[2, 157032], edge_attr=[672447])\n"
     ]
    }
   ],
   "source": [
    "# Load data\n",
    "__file__ = os.path.abspath('')\n",
    "\n",
    "print(\"Loading dataset \", dataName, \"...\")\n",
    "\n",
    "if dataName == 'overflow':\n",
    "    path = '/mnt/raid0nvme1/zz/data/' + 'overflow'\n",
    "    dataset = OverFlowDataset(path)\n",
    "    data = dataset[0]\n",
    "    orig_edge_index = data.edge_index\n",
    "elif dataName == 'taobao':\n",
    "    path = '/mnt/raid0nvme1/zz/data/' + 'taobao/taobao.pt'\n",
    "    data = torch.load(path)\n",
    "    orig_edge_index = data.edge_index\n",
    "    data.edge_index = to_undirected(data.edge_index)\n",
    "elif dataName == 'reddit':\n",
    "    path = '/mnt/raid0nvme1/zz/data/' + 'JODIE'\n",
    "    dataset = JODIEDataset(path, name='reddit')\n",
    "    data_orig = dataset[0]\n",
    "    data = Data(x=data_orig.msg, edge_index=torch.stack([data_orig.src, data_orig.dst], dim=0), edge_attr=data_orig.t)\n",
    "    orig_edge_index = data.edge_index\n",
    "    data.edge_index = to_undirected(data.edge_index)\n",
    "elif dataName == 'wiki':\n",
    "    path = '/mnt/raid0nvme1/zz/data/' + 'JODIE'\n",
    "    dataset = JODIEDataset(path, name='wikipedia')\n",
    "    data_orig = dataset[0]\n",
    "    data = Data(x=data_orig.msg, edge_index=torch.stack([data_orig.src, data_orig.dst], dim=0), edge_attr=data_orig.t)\n",
    "    orig_edge_index = data.edge_index\n",
    "    data.edge_index = to_undirected(data.edge_index)\n",
    "\n",
    "print(data)"
   ]
  },
  {
   "cell_type": "code",
   "execution_count": 3,
   "metadata": {},
   "outputs": [],
   "source": [
    "G = to_networkx(data)"
   ]
  },
  {
   "cell_type": "code",
   "execution_count": 4,
   "metadata": {},
   "outputs": [
    {
     "data": {
      "text/plain": [
       "672447"
      ]
     },
     "execution_count": 4,
     "metadata": {},
     "output_type": "execute_result"
    }
   ],
   "source": [
    "\n",
    "subsetPerc = 100\n",
    "num_to_sample = int(len(orig_edge_index[0]) * (subsetPerc/100))\n",
    "num_to_sample"
   ]
  },
  {
   "cell_type": "code",
   "execution_count": 5,
   "metadata": {},
   "outputs": [
    {
     "name": "stdout",
     "output_type": "stream",
     "text": [
      "2.95100031689968\n",
      "310\n"
     ]
    }
   ],
   "source": [
    "new_edges = torch.stack([orig_edge_index[0][-num_to_sample:], orig_edge_index[1][-num_to_sample:]])\n",
    "pairs = new_edges.t()\n",
    "j = 0\n",
    "tot = 0\n",
    "no_paths = 0\n",
    "for i in range(len(pairs)-1):\n",
    "  fst_pair = pairs[i]\n",
    "  snd_pair = pairs[i+1]\n",
    "  try:\n",
    "    \n",
    "    n1=nx.shortest_path_length(G, source=int(fst_pair[0]), target=int(snd_pair[0]))\n",
    "    n2=nx.shortest_path_length(G, source=int(fst_pair[0]), target=int(snd_pair[1]))\n",
    "    n3=nx.shortest_path_length(G, source=int(fst_pair[1]), target=int(snd_pair[0]))\n",
    "    n4=nx.shortest_path_length(G, source=int(fst_pair[1]), target=int(snd_pair[1]))\n",
    "    tot += (n1+n2+n3+n4)/4\n",
    "  except nx.NetworkXNoPath:\n",
    "      no_paths += 1\n",
    "  # if j == 50:\n",
    "  #   break\n",
    "  # j +=1\n",
    "\n",
    "print(tot/(num_to_sample-no_paths))\n",
    "print(no_paths)\n"
   ]
  },
  {
   "cell_type": "code",
   "execution_count": 8,
   "metadata": {},
   "outputs": [
    {
     "data": {
      "text/plain": [
       "0.07708916584554344"
      ]
     },
     "execution_count": 8,
     "metadata": {},
     "output_type": "execute_result"
    }
   ],
   "source": [
    "146848/1904911"
   ]
  },
  {
   "cell_type": "code",
   "execution_count": 9,
   "metadata": {},
   "outputs": [],
   "source": [
    "# Reddit\n",
    "# 2.95\n",
    "# Total: 672447\n",
    "# 310\n",
    "# Ratio: 0.05%\n",
    "\n",
    "# Wiki\n",
    "# 3.59\n",
    "# Total: 157474\n",
    "# 6245\n",
    "# Ratio: 3.9%\n",
    "\n",
    "# Taobao\n",
    "# 3.60\n",
    "# Total: 1001504\n",
    "# 0\n",
    "\n",
    "\n",
    "# Overflow\n",
    "# 3.125\n",
    "# Total: 1904911\n",
    "# 146848\n",
    "# Ratio: 7.7%"
   ]
  },
  {
   "cell_type": "code",
   "execution_count": null,
   "metadata": {},
   "outputs": [],
   "source": []
  }
 ],
 "metadata": {
  "kernelspec": {
   "display_name": "gnn",
   "language": "python",
   "name": "python3"
  },
  "language_info": {
   "codemirror_mode": {
    "name": "ipython",
    "version": 3
   },
   "file_extension": ".py",
   "mimetype": "text/x-python",
   "name": "python",
   "nbconvert_exporter": "python",
   "pygments_lexer": "ipython3",
   "version": "3.10.8"
  },
  "orig_nbformat": 4
 },
 "nbformat": 4,
 "nbformat_minor": 2
}
