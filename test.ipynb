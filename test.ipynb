{
 "cells": [
  {
   "cell_type": "code",
   "execution_count": 1,
   "metadata": {},
   "outputs": [],
   "source": [
    "import os.path as osp\n",
    "import os\n",
    "\n",
    "import torch\n",
    "from sklearn.metrics import average_precision_score, roc_auc_score\n",
    "from torch.nn import Linear\n",
    "\n",
    "from overflowDataset import OverFlowDataset\n",
    "from torch_geometric.loader import TemporalDataLoader\n",
    "from torch_geometric.nn import SAGEConv\n",
    "from torch_geometric.loader import NeighborLoader\n",
    "from tqdm import tqdm\n",
    "from neighbor_sampler import NeighborSampler\n"
   ]
  },
  {
   "cell_type": "code",
   "execution_count": 2,
   "metadata": {},
   "outputs": [
    {
     "name": "stderr",
     "output_type": "stream",
     "text": [
      "Using existing file sx-stackoverflow.txt.gz\n",
      "Extracting /home/zz/Home/data/OpenFlow/stackoverflow/raw/sx-stackoverflow.txt.gz\n"
     ]
    },
    {
     "ename": "EOFError",
     "evalue": "Compressed file ended before the end-of-stream marker was reached",
     "output_type": "error",
     "traceback": [
      "\u001b[0;31m---------------------------------------------------------------------------\u001b[0m",
      "\u001b[0;31mEOFError\u001b[0m                                  Traceback (most recent call last)",
      "Cell \u001b[0;32mIn[2], line 4\u001b[0m\n\u001b[1;32m      2\u001b[0m \u001b[39m__file__\u001b[39m \u001b[39m=\u001b[39m os\u001b[39m.\u001b[39mpath\u001b[39m.\u001b[39mabspath(\u001b[39m'\u001b[39m\u001b[39m'\u001b[39m)\n\u001b[1;32m      3\u001b[0m path \u001b[39m=\u001b[39m osp\u001b[39m.\u001b[39mjoin(osp\u001b[39m.\u001b[39mdirname(osp\u001b[39m.\u001b[39mrealpath(\u001b[39m__file__\u001b[39m)), \u001b[39m'\u001b[39m\u001b[39m..\u001b[39m\u001b[39m'\u001b[39m, \u001b[39m'\u001b[39m\u001b[39mdata\u001b[39m\u001b[39m'\u001b[39m, \u001b[39m'\u001b[39m\u001b[39mOpenFlow\u001b[39m\u001b[39m'\u001b[39m)\n\u001b[0;32m----> 4\u001b[0m dataset \u001b[39m=\u001b[39m OverFlowDataset(path)\n\u001b[1;32m      5\u001b[0m data \u001b[39m=\u001b[39m dataset[\u001b[39m0\u001b[39m]\n\u001b[1;32m      7\u001b[0m \u001b[39mprint\u001b[39m(data)\n",
      "File \u001b[0;32m~/Home/gnn/diss_caching/overflowDataset.py:20\u001b[0m, in \u001b[0;36mOverFlowDataset.__init__\u001b[0;34m(self, root, transform, pre_transform)\u001b[0m\n\u001b[1;32m     13\u001b[0m \u001b[39mdef\u001b[39;00m \u001b[39m__init__\u001b[39m(\n\u001b[1;32m     14\u001b[0m     \u001b[39mself\u001b[39m,\n\u001b[1;32m     15\u001b[0m     root: \u001b[39mstr\u001b[39m,\n\u001b[1;32m     16\u001b[0m     transform: Optional[Callable] \u001b[39m=\u001b[39m \u001b[39mNone\u001b[39;00m,\n\u001b[1;32m     17\u001b[0m     pre_transform: Optional[Callable] \u001b[39m=\u001b[39m \u001b[39mNone\u001b[39;00m,\n\u001b[1;32m     18\u001b[0m ):\n\u001b[0;32m---> 20\u001b[0m     \u001b[39msuper\u001b[39;49m()\u001b[39m.\u001b[39;49m\u001b[39m__init__\u001b[39;49m(root, transform, pre_transform)\n\u001b[1;32m     21\u001b[0m     \u001b[39mself\u001b[39m\u001b[39m.\u001b[39mdata, \u001b[39mself\u001b[39m\u001b[39m.\u001b[39mslices \u001b[39m=\u001b[39m torch\u001b[39m.\u001b[39mload(\u001b[39mself\u001b[39m\u001b[39m.\u001b[39mprocessed_paths[\u001b[39m0\u001b[39m])\n",
      "File \u001b[0;32m~/miniconda3/envs/gnn/lib/python3.10/site-packages/torch_geometric/data/in_memory_dataset.py:55\u001b[0m, in \u001b[0;36mInMemoryDataset.__init__\u001b[0;34m(self, root, transform, pre_transform, pre_filter, log)\u001b[0m\n\u001b[1;32m     47\u001b[0m \u001b[39mdef\u001b[39;00m \u001b[39m__init__\u001b[39m(\n\u001b[1;32m     48\u001b[0m     \u001b[39mself\u001b[39m,\n\u001b[1;32m     49\u001b[0m     root: Optional[\u001b[39mstr\u001b[39m] \u001b[39m=\u001b[39m \u001b[39mNone\u001b[39;00m,\n\u001b[0;32m   (...)\u001b[0m\n\u001b[1;32m     53\u001b[0m     log: \u001b[39mbool\u001b[39m \u001b[39m=\u001b[39m \u001b[39mTrue\u001b[39;00m,\n\u001b[1;32m     54\u001b[0m ):\n\u001b[0;32m---> 55\u001b[0m     \u001b[39msuper\u001b[39;49m()\u001b[39m.\u001b[39;49m\u001b[39m__init__\u001b[39;49m(root, transform, pre_transform, pre_filter, log)\n\u001b[1;32m     56\u001b[0m     \u001b[39mself\u001b[39m\u001b[39m.\u001b[39mdata \u001b[39m=\u001b[39m \u001b[39mNone\u001b[39;00m\n\u001b[1;32m     57\u001b[0m     \u001b[39mself\u001b[39m\u001b[39m.\u001b[39mslices \u001b[39m=\u001b[39m \u001b[39mNone\u001b[39;00m\n",
      "File \u001b[0;32m~/miniconda3/envs/gnn/lib/python3.10/site-packages/torch_geometric/data/dataset.py:91\u001b[0m, in \u001b[0;36mDataset.__init__\u001b[0;34m(self, root, transform, pre_transform, pre_filter, log)\u001b[0m\n\u001b[1;32m     88\u001b[0m \u001b[39mself\u001b[39m\u001b[39m.\u001b[39m_indices: Optional[Sequence] \u001b[39m=\u001b[39m \u001b[39mNone\u001b[39;00m\n\u001b[1;32m     90\u001b[0m \u001b[39mif\u001b[39;00m \u001b[39mself\u001b[39m\u001b[39m.\u001b[39mdownload\u001b[39m.\u001b[39m\u001b[39m__qualname__\u001b[39m\u001b[39m.\u001b[39msplit(\u001b[39m'\u001b[39m\u001b[39m.\u001b[39m\u001b[39m'\u001b[39m)[\u001b[39m0\u001b[39m] \u001b[39m!=\u001b[39m \u001b[39m'\u001b[39m\u001b[39mDataset\u001b[39m\u001b[39m'\u001b[39m:\n\u001b[0;32m---> 91\u001b[0m     \u001b[39mself\u001b[39;49m\u001b[39m.\u001b[39;49m_download()\n\u001b[1;32m     93\u001b[0m \u001b[39mif\u001b[39;00m \u001b[39mself\u001b[39m\u001b[39m.\u001b[39mprocess\u001b[39m.\u001b[39m\u001b[39m__qualname__\u001b[39m\u001b[39m.\u001b[39msplit(\u001b[39m'\u001b[39m\u001b[39m.\u001b[39m\u001b[39m'\u001b[39m)[\u001b[39m0\u001b[39m] \u001b[39m!=\u001b[39m \u001b[39m'\u001b[39m\u001b[39mDataset\u001b[39m\u001b[39m'\u001b[39m:\n\u001b[1;32m     94\u001b[0m     \u001b[39mself\u001b[39m\u001b[39m.\u001b[39m_process()\n",
      "File \u001b[0;32m~/miniconda3/envs/gnn/lib/python3.10/site-packages/torch_geometric/data/dataset.py:185\u001b[0m, in \u001b[0;36mDataset._download\u001b[0;34m(self)\u001b[0m\n\u001b[1;32m    182\u001b[0m     \u001b[39mreturn\u001b[39;00m\n\u001b[1;32m    184\u001b[0m makedirs(\u001b[39mself\u001b[39m\u001b[39m.\u001b[39mraw_dir)\n\u001b[0;32m--> 185\u001b[0m \u001b[39mself\u001b[39;49m\u001b[39m.\u001b[39;49mdownload()\n",
      "File \u001b[0;32m~/Home/gnn/diss_caching/overflowDataset.py:41\u001b[0m, in \u001b[0;36mOverFlowDataset.download\u001b[0;34m(self)\u001b[0m\n\u001b[1;32m     39\u001b[0m \u001b[39mdef\u001b[39;00m \u001b[39mdownload\u001b[39m(\u001b[39mself\u001b[39m):\n\u001b[1;32m     40\u001b[0m     download_url(\u001b[39mself\u001b[39m\u001b[39m.\u001b[39murl, \u001b[39mself\u001b[39m\u001b[39m.\u001b[39mraw_dir)\n\u001b[0;32m---> 41\u001b[0m     extract_gz(\u001b[39mself\u001b[39;49m\u001b[39m.\u001b[39;49mraw_dir \u001b[39m+\u001b[39;49m \u001b[39m\"\u001b[39;49m\u001b[39m/sx-stackoverflow.txt.gz\u001b[39;49m\u001b[39m\"\u001b[39;49m, \u001b[39mself\u001b[39;49m\u001b[39m.\u001b[39;49mraw_dir)\n",
      "File \u001b[0;32m~/miniconda3/envs/gnn/lib/python3.10/site-packages/torch_geometric/data/extract.py:72\u001b[0m, in \u001b[0;36mextract_gz\u001b[0;34m(path, folder, log)\u001b[0m\n\u001b[1;32m     70\u001b[0m \u001b[39mwith\u001b[39;00m gzip\u001b[39m.\u001b[39mopen(path, \u001b[39m'\u001b[39m\u001b[39mr\u001b[39m\u001b[39m'\u001b[39m) \u001b[39mas\u001b[39;00m r:\n\u001b[1;32m     71\u001b[0m     \u001b[39mwith\u001b[39;00m \u001b[39mopen\u001b[39m(osp\u001b[39m.\u001b[39mjoin(folder, \u001b[39m'\u001b[39m\u001b[39m.\u001b[39m\u001b[39m'\u001b[39m\u001b[39m.\u001b[39mjoin(path\u001b[39m.\u001b[39msplit(\u001b[39m'\u001b[39m\u001b[39m.\u001b[39m\u001b[39m'\u001b[39m)[:\u001b[39m-\u001b[39m\u001b[39m1\u001b[39m])), \u001b[39m'\u001b[39m\u001b[39mwb\u001b[39m\u001b[39m'\u001b[39m) \u001b[39mas\u001b[39;00m w:\n\u001b[0;32m---> 72\u001b[0m         w\u001b[39m.\u001b[39mwrite(r\u001b[39m.\u001b[39;49mread())\n",
      "File \u001b[0;32m~/miniconda3/envs/gnn/lib/python3.10/gzip.py:301\u001b[0m, in \u001b[0;36mGzipFile.read\u001b[0;34m(self, size)\u001b[0m\n\u001b[1;32m    299\u001b[0m     \u001b[39mimport\u001b[39;00m \u001b[39merrno\u001b[39;00m\n\u001b[1;32m    300\u001b[0m     \u001b[39mraise\u001b[39;00m \u001b[39mOSError\u001b[39;00m(errno\u001b[39m.\u001b[39mEBADF, \u001b[39m\"\u001b[39m\u001b[39mread() on write-only GzipFile object\u001b[39m\u001b[39m\"\u001b[39m)\n\u001b[0;32m--> 301\u001b[0m \u001b[39mreturn\u001b[39;00m \u001b[39mself\u001b[39;49m\u001b[39m.\u001b[39;49m_buffer\u001b[39m.\u001b[39;49mread(size)\n",
      "File \u001b[0;32m~/miniconda3/envs/gnn/lib/python3.10/_compression.py:118\u001b[0m, in \u001b[0;36mDecompressReader.readall\u001b[0;34m(self)\u001b[0m\n\u001b[1;32m    114\u001b[0m chunks \u001b[39m=\u001b[39m []\n\u001b[1;32m    115\u001b[0m \u001b[39m# sys.maxsize means the max length of output buffer is unlimited,\u001b[39;00m\n\u001b[1;32m    116\u001b[0m \u001b[39m# so that the whole input buffer can be decompressed within one\u001b[39;00m\n\u001b[1;32m    117\u001b[0m \u001b[39m# .decompress() call.\u001b[39;00m\n\u001b[0;32m--> 118\u001b[0m \u001b[39mwhile\u001b[39;00m data \u001b[39m:=\u001b[39m \u001b[39mself\u001b[39;49m\u001b[39m.\u001b[39;49mread(sys\u001b[39m.\u001b[39;49mmaxsize):\n\u001b[1;32m    119\u001b[0m     chunks\u001b[39m.\u001b[39mappend(data)\n\u001b[1;32m    121\u001b[0m \u001b[39mreturn\u001b[39;00m \u001b[39mb\u001b[39m\u001b[39m\"\u001b[39m\u001b[39m\"\u001b[39m\u001b[39m.\u001b[39mjoin(chunks)\n",
      "File \u001b[0;32m~/miniconda3/envs/gnn/lib/python3.10/gzip.py:507\u001b[0m, in \u001b[0;36m_GzipReader.read\u001b[0;34m(self, size)\u001b[0m\n\u001b[1;32m    505\u001b[0m         \u001b[39mbreak\u001b[39;00m\n\u001b[1;32m    506\u001b[0m     \u001b[39mif\u001b[39;00m buf \u001b[39m==\u001b[39m \u001b[39mb\u001b[39m\u001b[39m\"\u001b[39m\u001b[39m\"\u001b[39m:\n\u001b[0;32m--> 507\u001b[0m         \u001b[39mraise\u001b[39;00m \u001b[39mEOFError\u001b[39;00m(\u001b[39m\"\u001b[39m\u001b[39mCompressed file ended before the \u001b[39m\u001b[39m\"\u001b[39m\n\u001b[1;32m    508\u001b[0m                        \u001b[39m\"\u001b[39m\u001b[39mend-of-stream marker was reached\u001b[39m\u001b[39m\"\u001b[39m)\n\u001b[1;32m    510\u001b[0m \u001b[39mself\u001b[39m\u001b[39m.\u001b[39m_add_read_data( uncompress )\n\u001b[1;32m    511\u001b[0m \u001b[39mself\u001b[39m\u001b[39m.\u001b[39m_pos \u001b[39m+\u001b[39m\u001b[39m=\u001b[39m \u001b[39mlen\u001b[39m(uncompress)\n",
      "\u001b[0;31mEOFError\u001b[0m: Compressed file ended before the end-of-stream marker was reached"
     ]
    }
   ],
   "source": [
    "\n",
    "\n",
    "device = torch.device('cuda' if torch.cuda.is_available() else 'cpu')\n",
    "__file__ = os.path.abspath('')\n",
    "path = osp.join(osp.dirname(osp.realpath(__file__)), '..', 'data', 'OpenFlow')\n",
    "dataset = OverFlowDataset(path)\n",
    "data = dataset[0]\n",
    "\n",
    "print(data)\n",
    "\n",
    "# # Ensure to only sample actual destination nodes as negatives.\n",
    "# min_dst_idx, max_dst_idx = int(data.dst.min()), int(data.dst.max())\n",
    "# train_data, val_data, test_data = data.train_val_test_split(\n",
    "#     val_ratio=0.15, test_ratio=0.15)\n",
    "\n",
    "# train_loader = TemporalDataLoader(train_data, batch_size=200)\n",
    "# val_loader = TemporalDataLoader(val_data, batch_size=200)\n",
    "# test_loader = TemporalDataLoader(test_data, batch_size=200)"
   ]
  },
  {
   "cell_type": "code",
   "execution_count": null,
   "metadata": {},
   "outputs": [],
   "source": [
    "data.n_id = torch.arange(data.num_nodes)"
   ]
  },
  {
   "cell_type": "code",
   "execution_count": 3,
   "metadata": {},
   "outputs": [
    {
     "ename": "NameError",
     "evalue": "name 'data' is not defined",
     "output_type": "error",
     "traceback": [
      "\u001b[0;31m---------------------------------------------------------------------------\u001b[0m",
      "\u001b[0;31mNameError\u001b[0m                                 Traceback (most recent call last)",
      "Cell \u001b[0;32mIn[3], line 1\u001b[0m\n\u001b[0;32m----> 1\u001b[0m data\u001b[39m.\u001b[39medge_attr\n",
      "\u001b[0;31mNameError\u001b[0m: name 'data' is not defined"
     ]
    }
   ],
   "source": [
    "data.edge_attr"
   ]
  },
  {
   "cell_type": "code",
   "execution_count": 71,
   "metadata": {},
   "outputs": [
    {
     "name": "stdout",
     "output_type": "stream",
     "text": [
      "tensor([[0, 1],\n",
      "        [3, 3]])\n",
      "tensor([[0, 1],\n",
      "        [3, 3]])\n"
     ]
    }
   ],
   "source": [
    "from torch_geometric.data import Data\n",
    "from torch_geometric.utils import *\n",
    "\n",
    "# Example node features\n",
    "x = torch.tensor([\n",
    "    [0, 0, 1],\n",
    "    [1, 0, 0],\n",
    "    [0, 1, 0],\n",
    "    [1, 1, 1]\n",
    "], dtype=torch.float)\n",
    "\n",
    "# Example edge indices\n",
    "# edge_index = torch.tensor([\n",
    "#     [0, 1, 2, 3, 1],\n",
    "#     [1, 2, 3, 0, 3]\n",
    "# ], dtype=torch.long)\n",
    "edge_index = torch.tensor([\n",
    "    [0,1],\n",
    "    [3,3]\n",
    "], dtype=torch.long)\n",
    "\n",
    "print(edge_index)\n",
    "#edge_index = to_undirected(edge_index)\n",
    "print(edge_index)\n",
    "\n",
    "# Create PyTorch Geometric data object\n",
    "test_data = Data(x=x, edge_index=edge_index)\n",
    "test_data.n_id = torch.arange(6)"
   ]
  },
  {
   "cell_type": "code",
   "execution_count": 76,
   "metadata": {},
   "outputs": [
    {
     "name": "stdout",
     "output_type": "stream",
     "text": [
      "tensor([3, 0, 1])\n",
      "[EdgeIndex(edge_index=tensor([[1, 2],\n",
      "        [0, 0]]), e_id=tensor([0, 1]), size=(3, 2)), EdgeIndex(edge_index=tensor([[1],\n",
      "        [0]]), e_id=tensor([0]), size=(2, 1))]\n"
     ]
    }
   ],
   "source": [
    "temp_loader = NeighborSampler(test_data.edge_index, sizes=[1, -1], node_idx=torch.tensor([3]), batch_size=1)\n",
    "for batch_size, ids, adjs in temp_loader:\n",
    "    print(ids)\n",
    "    print(adjs)"
   ]
  },
  {
   "cell_type": "code",
   "execution_count": 8,
   "metadata": {},
   "outputs": [
    {
     "data": {
      "text/plain": [
       "Data(x=[4, 3], edge_index=[2, 2], n_id=[4])"
      ]
     },
     "execution_count": 8,
     "metadata": {},
     "output_type": "execute_result"
    }
   ],
   "source": [
    "test_data"
   ]
  },
  {
   "cell_type": "code",
   "execution_count": 6,
   "metadata": {},
   "outputs": [
    {
     "data": {
      "text/plain": [
       "tensor([0, 3, 1, 3])"
      ]
     },
     "execution_count": 6,
     "metadata": {},
     "output_type": "execute_result"
    }
   ],
   "source": [
    "torch.flatten(edge_index.t())"
   ]
  },
  {
   "cell_type": "code",
   "execution_count": 14,
   "metadata": {},
   "outputs": [
    {
     "name": "stdout",
     "output_type": "stream",
     "text": [
      "tensor([0, 1, 2, 3])\n",
      "[EdgeIndex(edge_index=tensor([[3, 3, 0, 1],\n",
      "        [0, 1, 3, 3]]), e_id=tensor([2, 3, 0, 1]), size=(4, 4)), EdgeIndex(edge_index=tensor([[3, 3, 0, 1],\n",
      "        [0, 1, 3, 3]]), e_id=tensor([2, 3, 0, 1]), size=(4, 4))]\n"
     ]
    }
   ],
   "source": [
    "temp_loader = NeighborSampler(test_data.edge_index, sizes=[2,2], node_idx=test_data.n_id, batch_size=4)\n",
    "for batch_size, ids, adjs in temp_loader:\n",
    "    print(ids)\n",
    "    print(adjs)\n",
    "    # for i in adjs.edge_index:\n",
    "    #     print(ids[i[0]], ids[i[1]])"
   ]
  },
  {
   "cell_type": "code",
   "execution_count": 18,
   "metadata": {},
   "outputs": [
    {
     "data": {
      "text/plain": [
       "tensor([[0, 1, 3, 3],\n",
       "        [3, 3, 0, 1]])"
      ]
     },
     "execution_count": 18,
     "metadata": {},
     "output_type": "execute_result"
    }
   ],
   "source": [
    "test_data.edge_index"
   ]
  },
  {
   "cell_type": "code",
   "execution_count": 9,
   "metadata": {},
   "outputs": [
    {
     "name": "stdout",
     "output_type": "stream",
     "text": [
      "tensor([0])\n",
      "[EdgeIndex(edge_index=tensor([], size=(2, 0), dtype=torch.int64), e_id=tensor([], dtype=torch.int64), size=(1, 1)), EdgeIndex(edge_index=tensor([], size=(2, 0), dtype=torch.int64), e_id=tensor([], dtype=torch.int64), size=(1, 1))]\n",
      "tensor([1])\n",
      "[EdgeIndex(edge_index=tensor([], size=(2, 0), dtype=torch.int64), e_id=tensor([], dtype=torch.int64), size=(1, 1)), EdgeIndex(edge_index=tensor([], size=(2, 0), dtype=torch.int64), e_id=tensor([], dtype=torch.int64), size=(1, 1))]\n",
      "tensor([2])\n",
      "[EdgeIndex(edge_index=tensor([], size=(2, 0), dtype=torch.int64), e_id=tensor([], dtype=torch.int64), size=(1, 1)), EdgeIndex(edge_index=tensor([], size=(2, 0), dtype=torch.int64), e_id=tensor([], dtype=torch.int64), size=(1, 1))]\n",
      "tensor([3, 1, 0])\n",
      "[EdgeIndex(edge_index=tensor([[1, 2],\n",
      "        [0, 0]]), e_id=tensor([1, 0]), size=(3, 3)), EdgeIndex(edge_index=tensor([[1, 2],\n",
      "        [0, 0]]), e_id=tensor([1, 0]), size=(3, 1))]\n"
     ]
    }
   ],
   "source": [
    "temp_loader = NeighborSampler(test_data.edge_index, sizes=[3,3], node_idx=test_data.n_id, batch_size=1)\n",
    "for batch_size, ids, adjs in temp_loader:\n",
    "    print(ids)\n",
    "    print(adjs)\n",
    "    # for i in adjs.edge_index:\n",
    "    #     print(ids[i[0]], ids[i[1]])"
   ]
  },
  {
   "cell_type": "code",
   "execution_count": 21,
   "metadata": {},
   "outputs": [
    {
     "name": "stdout",
     "output_type": "stream",
     "text": [
      "tensor([0, 3, 1, 2])\n",
      "tensor([1, 0, 3])\n",
      "tensor([2, 1, 0])\n",
      "tensor([3, 1, 2, 0])\n"
     ]
    }
   ],
   "source": [
    "temp_loader = NeighborSampler(test_data.edge_index, sizes=[-1,-1], node_idx=test_data.n_id, batch_size=1)\n",
    "for b in temp_loader:\n",
    "    print(b[1])"
   ]
  },
  {
   "cell_type": "code",
   "execution_count": 6,
   "metadata": {},
   "outputs": [],
   "source": [
    "train_loader = NeighborLoader(data, input_nodes=None, num_neighbors=[0], shuffle=False, batch_size=1)"
   ]
  },
  {
   "cell_type": "code",
   "execution_count": 7,
   "metadata": {},
   "outputs": [
    {
     "name": "stdout",
     "output_type": "stream",
     "text": [
      "tensor(0)\n",
      "tensor(1)\n",
      "tensor(2)\n",
      "tensor(3)\n",
      "tensor(4)\n",
      "tensor(5)\n",
      "tensor(6)\n",
      "tensor(7)\n",
      "tensor(8)\n",
      "tensor(9)\n",
      "10\n"
     ]
    }
   ],
   "source": [
    "cnt = 0\n",
    "for b in train_loader:\n",
    "  cnt += 1\n",
    "  print(b.n_id[0])\n",
    "  if cnt ==10:\n",
    "    break\n",
    "print(cnt)"
   ]
  },
  {
   "cell_type": "code",
   "execution_count": 29,
   "metadata": {},
   "outputs": [
    {
     "name": "stdout",
     "output_type": "stream",
     "text": [
      "tensor([0])\n",
      "tensor([0])\n"
     ]
    }
   ],
   "source": [
    "sampled_data = next(iter(train_loader))\n",
    "print(sampled_data.n_id)\n",
    "sampled_data = next(iter(train_loader))\n",
    "print(sampled_data.n_id)"
   ]
  },
  {
   "cell_type": "code",
   "execution_count": 24,
   "metadata": {},
   "outputs": [
    {
     "data": {
      "text/plain": [
       "torch.Size([2, 63497050])"
      ]
     },
     "execution_count": 24,
     "metadata": {},
     "output_type": "execute_result"
    }
   ],
   "source": [
    "edge_idx = torch.stack([data.src, data.dst], dim=0)\n",
    "edge_idx.size()"
   ]
  },
  {
   "cell_type": "code",
   "execution_count": 9,
   "metadata": {},
   "outputs": [],
   "source": [
    "class LinkPredictor(torch.nn.Module):\n",
    "    def __init__(self, in_channels):\n",
    "        super().__init__()\n",
    "        self.lin_src = Linear(in_channels, in_channels)\n",
    "        self.lin_dst = Linear(in_channels, in_channels)\n",
    "        self.lin_final = Linear(in_channels, 1)\n",
    "\n",
    "    def forward(self, z_src, z_dst):\n",
    "        h = self.lin_src(z_src) + self.lin_dst(z_dst)\n",
    "        h = h.relu()\n",
    "        return self.lin_final(h)"
   ]
  },
  {
   "cell_type": "code",
   "execution_count": 10,
   "metadata": {},
   "outputs": [],
   "source": [
    "class SAGE(torch.nn.Module):\n",
    "    def __init__(self, in_channels, hidden_channels, out_channels):\n",
    "        super().__init__()\n",
    "        self.convs = torch.nn.ModuleList()\n",
    "        self.convs.append(SAGEConv(in_channels, hidden_channels))\n",
    "        self.convs.append(SAGEConv(hidden_channels, out_channels))\n",
    "\n",
    "    def forward(self, x, edge_index):\n",
    "        for i, conv in enumerate(self.convs):\n",
    "            x = conv(x, edge_index)\n",
    "            if i < len(self.convs) - 1:\n",
    "                x = x.relu_()\n",
    "                x = F.dropout(x, p=0.5, training=self.training)\n",
    "        return x\n",
    "\n",
    "    @torch.no_grad()\n",
    "    def inference(self, x_all, subgraph_loader):\n",
    "        pbar = tqdm(total=len(subgraph_loader.dataset) * len(self.convs))\n",
    "        pbar.set_description('Evaluating')\n",
    "\n",
    "        # Compute representations of nodes layer by layer, using *all*\n",
    "        # available edges. This leads to faster computation in contrast to\n",
    "        # immediately computing the final representations of each batch:\n",
    "        for i, conv in enumerate(self.convs):\n",
    "            xs = []\n",
    "            for batch in subgraph_loader:\n",
    "                x = x_all[batch.n_id.to(x_all.device)].to(device)\n",
    "                x = conv(x, batch.edge_index.to(device))\n",
    "                if i < len(self.convs) - 1:\n",
    "                    x = x.relu_()\n",
    "                xs.append(x[:batch.batch_size].cpu())\n",
    "                pbar.update(batch.batch_size)\n",
    "            x_all = torch.cat(xs, dim=0)\n",
    "        pbar.close()\n",
    "        return x_all"
   ]
  },
  {
   "cell_type": "code",
   "execution_count": 42,
   "metadata": {},
   "outputs": [],
   "source": [
    "sampleNum = data.num_nodes"
   ]
  },
  {
   "cell_type": "code",
   "execution_count": 48,
   "metadata": {},
   "outputs": [],
   "source": [
    "train_loader = NeighborSampler(data.edge_index, sizes=[10,10], node_idx=data.edge_index[0][:sampleNum], batch_size=1000)"
   ]
  },
  {
   "cell_type": "code",
   "execution_count": 49,
   "metadata": {},
   "outputs": [
    {
     "name": "stderr",
     "output_type": "stream",
     "text": [
      "  0%|          | 197500/63497050 [01:37<8:41:39, 2022.35it/s] \n"
     ]
    },
    {
     "ename": "KeyboardInterrupt",
     "evalue": "",
     "output_type": "error",
     "traceback": [
      "\u001b[0;31m---------------------------------------------------------------------------\u001b[0m",
      "\u001b[0;31mKeyboardInterrupt\u001b[0m                         Traceback (most recent call last)",
      "Cell \u001b[0;32mIn[49], line 13\u001b[0m\n\u001b[1;32m     11\u001b[0m \u001b[39mfor\u001b[39;00m step, (batch_size, ids, adjs) \u001b[39min\u001b[39;00m \u001b[39menumerate\u001b[39m(train_loader):\n\u001b[1;32m     12\u001b[0m     \u001b[39mfor\u001b[39;00m i \u001b[39min\u001b[39;00m ids:\n\u001b[0;32m---> 13\u001b[0m         get_value(\u001b[39mint\u001b[39;49m(i))\n\u001b[1;32m     14\u001b[0m     pbar\u001b[39m.\u001b[39mupdate(batch_size)\n\u001b[1;32m     15\u001b[0m pbar\u001b[39m.\u001b[39mclose()\n",
      "\u001b[0;31mKeyboardInterrupt\u001b[0m: "
     ]
    },
    {
     "name": "stderr",
     "output_type": "stream",
     "text": []
    }
   ],
   "source": [
    "from functools import lru_cache\n",
    "\n",
    "cacheMiss = 0\n",
    "\n",
    "@lru_cache(maxsize=200000)\n",
    "def get_value(key):\n",
    "    global cacheMiss\n",
    "    cacheMiss +=1\n",
    "\n",
    "pbar = tqdm(total=sampleNum)\n",
    "for step, (batch_size, ids, adjs) in enumerate(train_loader):\n",
    "    for i in ids:\n",
    "        get_value(int(i))\n",
    "    pbar.update(batch_size)\n",
    "pbar.close()\n"
   ]
  },
  {
   "cell_type": "code",
   "execution_count": 33,
   "metadata": {},
   "outputs": [
    {
     "data": {
      "text/plain": [
       "7381991"
      ]
     },
     "execution_count": 33,
     "metadata": {},
     "output_type": "execute_result"
    }
   ],
   "source": [
    "info = get_value.cache_info()\n",
    "info.hits + info.misses"
   ]
  },
  {
   "cell_type": "code",
   "execution_count": 32,
   "metadata": {},
   "outputs": [
    {
     "name": "stdout",
     "output_type": "stream",
     "text": [
      "0.8559357495830054\n"
     ]
    }
   ],
   "source": [
    "def getHitRatio(info):\n",
    "    return info.hits / (info.hits + info.misses)\n",
    "\n",
    "print(getHitRatio(info))"
   ]
  },
  {
   "cell_type": "code",
   "execution_count": 34,
   "metadata": {},
   "outputs": [
    {
     "name": "stderr",
     "output_type": "stream",
     "text": [
      "/tmp/ipykernel_1663896/3240484968.py:4: UserWarning: To copy construct from a tensor, it is recommended to use sourceTensor.clone().detach() or sourceTensor.clone().detach().requires_grad_(True), rather than torch.tensor(sourceTensor).\n",
      "  indices = torch.tensor(indices)\n"
     ]
    }
   ],
   "source": [
    "import random\n",
    "\n",
    "indices = torch.tensor(random.sample(range(len(data.edge_index[0])), sampleNum))\n",
    "indices = torch.tensor(indices)\n",
    "sampled_values = data.edge_index[0][indices]\n"
   ]
  },
  {
   "cell_type": "code",
   "execution_count": 35,
   "metadata": {},
   "outputs": [],
   "source": [
    "random_loader = NeighborSampler(data.edge_index, sizes=[10,10], node_idx=sampled_values)"
   ]
  },
  {
   "cell_type": "code",
   "execution_count": 36,
   "metadata": {},
   "outputs": [
    {
     "name": "stderr",
     "output_type": "stream",
     "text": [
      "100%|██████████| 100000/100000 [00:32<00:00, 3047.38it/s]"
     ]
    },
    {
     "name": "stdout",
     "output_type": "stream",
     "text": [
      "1760968\n"
     ]
    },
    {
     "name": "stderr",
     "output_type": "stream",
     "text": [
      "\n"
     ]
    }
   ],
   "source": [
    "from functools import lru_cache\n",
    "\n",
    "cacheMiss = 0\n",
    "\n",
    "@lru_cache(maxsize=200000)\n",
    "def get_value(key):\n",
    "    global cacheMiss\n",
    "    cacheMiss +=1\n",
    "\n",
    "pbar = tqdm(total=sampleNum)\n",
    "for step, (batch_size, ids, adjs) in enumerate(random_loader):\n",
    "    for i in ids:\n",
    "        get_value(int(i))\n",
    "    pbar.update(1)\n",
    "pbar.close()\n",
    "\n",
    "print(cacheMiss)"
   ]
  },
  {
   "cell_type": "code",
   "execution_count": 37,
   "metadata": {},
   "outputs": [
    {
     "data": {
      "text/plain": [
       "5728813"
      ]
     },
     "execution_count": 37,
     "metadata": {},
     "output_type": "execute_result"
    }
   ],
   "source": [
    "info = get_value.cache_info()\n",
    "info.hits + info.misses"
   ]
  },
  {
   "cell_type": "code",
   "execution_count": 38,
   "metadata": {},
   "outputs": [
    {
     "name": "stdout",
     "output_type": "stream",
     "text": [
      "0.692612064663308\n"
     ]
    }
   ],
   "source": [
    "def getHitRatio(info):\n",
    "    return info.hits / (info.hits + info.misses)\n",
    "\n",
    "print(getHitRatio(info))"
   ]
  },
  {
   "cell_type": "code",
   "execution_count": 11,
   "metadata": {},
   "outputs": [
    {
     "data": {
      "text/plain": [
       "Text(0, 0.5, 'Cache hit ratio %')"
      ]
     },
     "execution_count": 11,
     "metadata": {},
     "output_type": "execute_result"
    },
    {
     "data": {
      "image/png": "[encoded data removed]",
      "text/plain": [
       "<Figure size 640x480 with 1 Axes>"
      ]
     },
     "metadata": {},
     "output_type": "display_data"
    }
   ],
   "source": [
    "xs = [2.5, 5, 10, 20, 40, 60, 80]\n",
    "sequent = [46.49, 59.83, 72.99, 84.35, 92.67, 95.84, 97.31]\n",
    "rand = [31.82, 43.28, 56.39, 70.21, 82.98, 89.14, 92.66]\n",
    "\n",
    "import numpy as np\n",
    "import matplotlib.pyplot as plt\n",
    "\n",
    "plt.plot(xs, sequent, 'o-', color='red', label=\"sequential sampling\")\n",
    "plt.plot(xs, rand, 'o-', color='blue', label=\"random sampling\")\n",
    "plt.legend()\n",
    "plt.xlabel('Cache size %')\n",
    "plt.ylabel('Cache hit ratio %')\n"
   ]
  },
  {
   "cell_type": "code",
   "execution_count": null,
   "metadata": {},
   "outputs": [],
   "source": []
  }
 ],
 "metadata": {
  "kernelspec": {
   "display_name": "gnn",
   "language": "python",
   "name": "python3"
  },
  "language_info": {
   "codemirror_mode": {
    "name": "ipython",
    "version": 3
   },
   "file_extension": ".py",
   "mimetype": "text/x-python",
   "name": "python",
   "nbconvert_exporter": "python",
   "pygments_lexer": "ipython3",
   "version": "3.10.8"
  },
  "orig_nbformat": 4,
  "vscode": {
   "interpreter": {
    "hash": "73986a8f3bce3efd6c5bb7f072a0fcc3be48ec97f1ec1ace688ac1bc99e481cd"
   }
  }
 },
 "nbformat": 4,
 "nbformat_minor": 2
}
