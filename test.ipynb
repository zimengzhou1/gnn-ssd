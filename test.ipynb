{
 "cells": [
  {
   "cell_type": "code",
   "execution_count": 26,
   "metadata": {},
   "outputs": [],
   "source": [
    "import os.path as osp\n",
    "import os\n",
    "\n",
    "import torch\n",
    "from sklearn.metrics import average_precision_score, roc_auc_score\n",
    "from torch.nn import Linear\n",
    "\n",
    "from overflowDataset import OpenFlowDataset\n",
    "from torch_geometric.loader import TemporalDataLoader\n",
    "from torch_geometric.nn import SAGEConv\n",
    "from torch_geometric.loader import NeighborLoader\n",
    "from tqdm import tqdm\n",
    "from neighbor_sampler import NeighborSampler\n"
   ]
  },
  {
   "cell_type": "code",
   "execution_count": 2,
   "metadata": {},
   "outputs": [
    {
     "name": "stdout",
     "output_type": "stream",
     "text": [
      "Data(x=[63497050, 128], edge_index=[2, 63497050], edge_attr=[63497050])\n"
     ]
    }
   ],
   "source": [
    "\n",
    "\n",
    "device = torch.device('cuda' if torch.cuda.is_available() else 'cpu')\n",
    "__file__ = os.path.abspath('')\n",
    "path = osp.join(osp.dirname(osp.realpath(__file__)), '..', 'data', 'OpenFlow')\n",
    "dataset = OpenFlowDataset(path)\n",
    "data = dataset[0]\n",
    "\n",
    "print(data)\n",
    "\n",
    "# # Ensure to only sample actual destination nodes as negatives.\n",
    "# min_dst_idx, max_dst_idx = int(data.dst.min()), int(data.dst.max())\n",
    "# train_data, val_data, test_data = data.train_val_test_split(\n",
    "#     val_ratio=0.15, test_ratio=0.15)\n",
    "\n",
    "# train_loader = TemporalDataLoader(train_data, batch_size=200)\n",
    "# val_loader = TemporalDataLoader(val_data, batch_size=200)\n",
    "# test_loader = TemporalDataLoader(test_data, batch_size=200)"
   ]
  },
  {
   "cell_type": "code",
   "execution_count": 5,
   "metadata": {},
   "outputs": [],
   "source": [
    "data.n_id = torch.arange(data.num_nodes)"
   ]
  },
  {
   "cell_type": "code",
   "execution_count": 8,
   "metadata": {},
   "outputs": [
    {
     "data": {
      "text/plain": [
       "Data(x=[63497050, 128], edge_index=[2, 63497050], edge_attr=[63497050], n_id=[63497050])"
      ]
     },
     "execution_count": 8,
     "metadata": {},
     "output_type": "execute_result"
    }
   ],
   "source": [
    "data"
   ]
  },
  {
   "cell_type": "code",
   "execution_count": 6,
   "metadata": {},
   "outputs": [],
   "source": [
    "train_loader = NeighborLoader(data, input_nodes=None, num_neighbors=[0], shuffle=False, batch_size=1)"
   ]
  },
  {
   "cell_type": "code",
   "execution_count": 9,
   "metadata": {},
   "outputs": [
    {
     "name": "stdout",
     "output_type": "stream",
     "text": [
      "tensor([0])\n",
      "tensor([      1,   42368,    3619,   18255,   18061,   97614,      17,   17174,\n",
      "          42303,   61027,    3407,  113471, 1185555,  112079,   51816,  163338,\n",
      "         194476,   70289,   32498,    1242,    5358,   83132, 1960071,  266882,\n",
      "           8945,  288393,  503734,   47341,  162167,  159270,     146,   93468,\n",
      "         353729,  994771,  479491,    6258,   32303,   84704,   13523,   80901,\n",
      "         146077,   23354, 3629119, 3159971,  302908,  571407, 5157280,  345708,\n",
      "          73070,     115,  231704,  176877,   15497,  127259,  264074,   89771,\n",
      "          11374,   17034, 1164573,  990666,   18174,   44620,   68589,   38567,\n",
      "          42082,    2443,  563577, 4819357,  111929,   68204,    1043,   48015,\n",
      "         483347,  202325,   63651,    8722, 2507850,  398630,   45433,   47064,\n",
      "         653866,  187606,   58839, 1302881,  110337,  683352,    8220,  125756,\n",
      "         252591])\n",
      "tensor([      2,  143473,     615,     227,   10117,  281614,  149341,  291907,\n",
      "          15487,   86913,   76378,   26353,  665792,   33611,   54684,   13005,\n",
      "          67132,  144983,   48553,   98713,  835292,   16241,   38765,   63235,\n",
      "         738999,   88656,    8434,   36590,  409817, 2698019,   48082,     392,\n",
      "         692799, 2319794, 1588303,   36175,   31671,   46204,   33914,   10583,\n",
      "         367456,    9951,   38812,  209605, 1129189, 1165004, 1686895,    9664,\n",
      "          19746,  526011,   20860, 2616212, 2967705, 1658887, 1020154,  140750,\n",
      "         575281, 1284251, 1276753,  472221,   10947,  379897,  186019,  396335,\n",
      "         301883,   18180,   88396,  720049,  220060,   38231,   17648,  646456,\n",
      "        2247612,     343,  172322,  261581,   62024,   13302, 1853750,   25279,\n",
      "           1942,   99919,   11820,  163551,  135441,   57505,  339876,    1151,\n",
      "         192801,   39974,   54420,  697630])\n",
      "tensor([      3,  359736,    2385,    7724,   17174,   23354,   81046, 1559213,\n",
      "         745537, 1121806,  783488,  334913,  477037, 1119844, 1020958,   48553,\n",
      "          84539, 2815115,   20670, 2037314, 2866037,  605863,    1228,  631796,\n",
      "          43008,   67179,   70182,  611441, 1461269,   17034,  124504,   33708,\n",
      "           8446,   48523, 1731557,  237308,  635634,   50742,  630562,   24302,\n",
      "         126574,   84951,  679671,  802124,  127839,  217288,  118703, 1820856,\n",
      "          30001,  133701,  194528, 3129402, 1909604,  117899, 3627624, 1581522,\n",
      "        1084319,  403671,  516690,  768731,   77464,  671619,  120097,  229631])\n",
      "tensor([      4,   53594,  310574, 2725684,   18747,   16076,  615784,  241536,\n",
      "         516534,   77779,  123723,  938949, 1219006,  566644, 2665694,    7903,\n",
      "         779200,   19479, 1049787,  395760,    5056,  142794,    1551,  636065,\n",
      "         379897,  214071,   36464,  168986, 2422776,   19068, 4402432, 1449181,\n",
      "        2958230,   53212, 1297050, 2755525,  319875,  613500, 1782309,  395824,\n",
      "         208066,    9913,  617470,  420779,  206730,  863884,   58685,   50430,\n",
      "         610204,  599335,   22656,  396458,  333643,  147192,       1,  188414,\n",
      "         223622,  596781,  459640,   12643,   34397,    2749,   73070, 4560030,\n",
      "         110933, 1076640, 3887073,  521799,   82804,   20570,   15639,    5648,\n",
      "          52626,   98491, 2243999, 1073107,  127742,  237109])\n",
      "tensor([      5,  816620,   63824,   38629,  132023,   53501,    8844,    1471,\n",
      "         138863,   24064,   65387,  797194,  645186,  433905,  701363, 3407899,\n",
      "        3210431,   75642,  134205,   77254,   16940,   16027,  138578,     230,\n",
      "          76740,  413337,   91814,   37494,  284240,   47886,  139547,   21239,\n",
      "          74439,   76337,  139164,  141081,   32632,  309044,   76832,   31641,\n",
      "         253898, 1429245, 1399620, 1595597,   47529,  243999,  844882, 1340329,\n",
      "         671827,  449928,  540425,  553609,   10957,  586793,  111243,  198019,\n",
      "           1790, 3214856, 1926963,  216111,    2147,   50360,   48082,   66502,\n",
      "           6212,    2093,  829305, 5035803, 1576269,  212700,   69755,  874188,\n",
      "         736967, 2290304,  351330, 1324345,  778298,   54491,    3474,    4215,\n",
      "           5640,   39656,   19995])\n",
      "tensor([6])\n",
      "tensor([7])\n",
      "tensor([      8,       9,     446,      39,      55, 2241405,     356,   59303,\n",
      "          29407,   18658,     905,  766407,   26682,  394157, 1385328,      22,\n",
      "         419970,       5,      46, 1100698, 2558610,   86072,    5416,  151429,\n",
      "         399649,  310574,  584490, 1114316, 1144090,    9777,   18005,  200731,\n",
      "          28029, 1904753,   60777,      59,   53120,  845414,  204046,  117982,\n",
      "          80393,      13, 2716927, 1968367,  200856,  471930, 1338292, 4132362,\n",
      "        1521771, 2793186,  112955,  521776,   82187,  117362,   43220,  458616,\n",
      "          27388,  553308,  166723,   78374,   82586,  508330,  479599,  980962,\n",
      "          84651,  410882,  920202,  224410, 2021863,   10396,     572,   51428,\n",
      "           6741,  193892,    5314,   28258,   15541,    2635, 1231536,  558239,\n",
      "        1637832,  541782,  175308,    3811,  464744])\n",
      "tensor([      9, 1075152,  553088,  137067, 4696809,    5351,  996501,  259805,\n",
      "         450076, 4851956, 3845120, 1578604,  869951, 2286508, 4861069,  222914,\n",
      "         183132,  960757, 2043144,  284240,   13302,  298233,  615627,   64167,\n",
      "         225361,  227021,  465738,  219532,   31728,   65696, 4489449,  978866,\n",
      "        1739297,  643104,  781707, 3141408,    6682,   73070,   94893,  152602,\n",
      "         319931,  180965,    2172,    3333,   47366, 1653995,  965051, 1843011,\n",
      "         334402, 3238292, 1240672,  124378,  749327,  284567, 1941621, 1196771,\n",
      "         296073,   15880,  374092, 1473940,  717898,  419970,  184822,  796401,\n",
      "        2306977,  641326,  699224,   23934,  279627, 1672206, 1255289,  736714,\n",
      "         702892, 2587646,  448516, 1132711,  601179])\n",
      "10\n"
     ]
    }
   ],
   "source": [
    "cnt = 0\n",
    "for b in train_loader:\n",
    "  cnt += 1\n",
    "  print(b.n_id)\n",
    "  if cnt ==10:\n",
    "    break\n",
    "print(cnt)"
   ]
  },
  {
   "cell_type": "code",
   "execution_count": 29,
   "metadata": {},
   "outputs": [
    {
     "name": "stdout",
     "output_type": "stream",
     "text": [
      "tensor([0])\n",
      "tensor([0])\n"
     ]
    }
   ],
   "source": [
    "sampled_data = next(iter(train_loader))\n",
    "print(sampled_data.n_id)\n",
    "sampled_data = next(iter(train_loader))\n",
    "print(sampled_data.n_id)"
   ]
  },
  {
   "cell_type": "code",
   "execution_count": 24,
   "metadata": {},
   "outputs": [
    {
     "data": {
      "text/plain": [
       "torch.Size([2, 63497050])"
      ]
     },
     "execution_count": 24,
     "metadata": {},
     "output_type": "execute_result"
    }
   ],
   "source": [
    "edge_idx = torch.stack([data.src, data.dst], dim=0)\n",
    "edge_idx.size()"
   ]
  },
  {
   "cell_type": "code",
   "execution_count": 9,
   "metadata": {},
   "outputs": [],
   "source": [
    "class LinkPredictor(torch.nn.Module):\n",
    "    def __init__(self, in_channels):\n",
    "        super().__init__()\n",
    "        self.lin_src = Linear(in_channels, in_channels)\n",
    "        self.lin_dst = Linear(in_channels, in_channels)\n",
    "        self.lin_final = Linear(in_channels, 1)\n",
    "\n",
    "    def forward(self, z_src, z_dst):\n",
    "        h = self.lin_src(z_src) + self.lin_dst(z_dst)\n",
    "        h = h.relu()\n",
    "        return self.lin_final(h)"
   ]
  },
  {
   "cell_type": "code",
   "execution_count": 10,
   "metadata": {},
   "outputs": [],
   "source": [
    "class SAGE(torch.nn.Module):\n",
    "    def __init__(self, in_channels, hidden_channels, out_channels):\n",
    "        super().__init__()\n",
    "        self.convs = torch.nn.ModuleList()\n",
    "        self.convs.append(SAGEConv(in_channels, hidden_channels))\n",
    "        self.convs.append(SAGEConv(hidden_channels, out_channels))\n",
    "\n",
    "    def forward(self, x, edge_index):\n",
    "        for i, conv in enumerate(self.convs):\n",
    "            x = conv(x, edge_index)\n",
    "            if i < len(self.convs) - 1:\n",
    "                x = x.relu_()\n",
    "                x = F.dropout(x, p=0.5, training=self.training)\n",
    "        return x\n",
    "\n",
    "    @torch.no_grad()\n",
    "    def inference(self, x_all, subgraph_loader):\n",
    "        pbar = tqdm(total=len(subgraph_loader.dataset) * len(self.convs))\n",
    "        pbar.set_description('Evaluating')\n",
    "\n",
    "        # Compute representations of nodes layer by layer, using *all*\n",
    "        # available edges. This leads to faster computation in contrast to\n",
    "        # immediately computing the final representations of each batch:\n",
    "        for i, conv in enumerate(self.convs):\n",
    "            xs = []\n",
    "            for batch in subgraph_loader:\n",
    "                x = x_all[batch.n_id.to(x_all.device)].to(device)\n",
    "                x = conv(x, batch.edge_index.to(device))\n",
    "                if i < len(self.convs) - 1:\n",
    "                    x = x.relu_()\n",
    "                xs.append(x[:batch.batch_size].cpu())\n",
    "                pbar.update(batch.batch_size)\n",
    "            x_all = torch.cat(xs, dim=0)\n",
    "        pbar.close()\n",
    "        return x_all"
   ]
  },
  {
   "cell_type": "code",
   "execution_count": 17,
   "metadata": {},
   "outputs": [],
   "source": [
    "sampleNum = 100000"
   ]
  },
  {
   "cell_type": "code",
   "execution_count": 18,
   "metadata": {},
   "outputs": [],
   "source": [
    "train_loader = NeighborSampler(data.edge_index, sizes=[10,10], node_idx=data.edge_index[0][:sampleNum])"
   ]
  },
  {
   "cell_type": "code",
   "execution_count": 19,
   "metadata": {},
   "outputs": [
    {
     "name": "stderr",
     "output_type": "stream",
     "text": [
      "100%|██████████| 100000/100000 [00:38<00:00, 2594.56it/s]\n"
     ]
    }
   ],
   "source": [
    "from functools import lru_cache\n",
    "\n",
    "cacheMiss = 0\n",
    "\n",
    "@lru_cache(maxsize=200000)\n",
    "def get_value(key):\n",
    "    global cacheMiss\n",
    "    cacheMiss +=1\n",
    "\n",
    "pbar = tqdm(total=sampleNum)\n",
    "for step, (batch_size, ids, adjs) in enumerate(train_loader):\n",
    "    for i in ids:\n",
    "        get_value(i)\n",
    "    pbar.update(1)\n",
    "pbar.close()\n"
   ]
  },
  {
   "cell_type": "code",
   "execution_count": 20,
   "metadata": {},
   "outputs": [
    {
     "data": {
      "text/plain": [
       "7383305"
      ]
     },
     "execution_count": 20,
     "metadata": {},
     "output_type": "execute_result"
    }
   ],
   "source": [
    "cacheMiss"
   ]
  },
  {
   "cell_type": "code",
   "execution_count": 21,
   "metadata": {},
   "outputs": [
    {
     "name": "stderr",
     "output_type": "stream",
     "text": [
      "/tmp/ipykernel_2458902/3240484968.py:4: UserWarning: To copy construct from a tensor, it is recommended to use sourceTensor.clone().detach() or sourceTensor.clone().detach().requires_grad_(True), rather than torch.tensor(sourceTensor).\n",
      "  indices = torch.tensor(indices)\n"
     ]
    }
   ],
   "source": [
    "import random\n",
    "\n",
    "indices = torch.tensor(random.sample(range(len(data.edge_index[0])), sampleNum))\n",
    "indices = torch.tensor(indices)\n",
    "sampled_values = data.edge_index[0][indices]\n"
   ]
  },
  {
   "cell_type": "code",
   "execution_count": 22,
   "metadata": {},
   "outputs": [],
   "source": [
    "random_loader = NeighborSampler(data.edge_index, sizes=[10,10], node_idx=sampled_values)"
   ]
  },
  {
   "cell_type": "code",
   "execution_count": 23,
   "metadata": {},
   "outputs": [
    {
     "name": "stderr",
     "output_type": "stream",
     "text": [
      "100%|██████████| 100000/100000 [00:34<00:00, 2918.50it/s]"
     ]
    },
    {
     "name": "stdout",
     "output_type": "stream",
     "text": [
      "5735639\n"
     ]
    },
    {
     "name": "stderr",
     "output_type": "stream",
     "text": [
      "\n"
     ]
    }
   ],
   "source": [
    "from functools import lru_cache\n",
    "\n",
    "cacheMiss = 0\n",
    "\n",
    "@lru_cache(maxsize=200000)\n",
    "def get_value(key):\n",
    "    global cacheMiss\n",
    "    cacheMiss +=1\n",
    "\n",
    "pbar = tqdm(total=sampleNum)\n",
    "for step, (batch_size, ids, adjs) in enumerate(random_loader):\n",
    "    for i in ids:\n",
    "        get_value(i)\n",
    "    pbar.update(1)\n",
    "pbar.close()\n",
    "\n",
    "print(cacheMiss)"
   ]
  },
  {
   "cell_type": "code",
   "execution_count": null,
   "metadata": {},
   "outputs": [],
   "source": []
  }
 ],
 "metadata": {
  "kernelspec": {
   "display_name": "gnn",
   "language": "python",
   "name": "python3"
  },
  "language_info": {
   "codemirror_mode": {
    "name": "ipython",
    "version": 3
   },
   "file_extension": ".py",
   "mimetype": "text/x-python",
   "name": "python",
   "nbconvert_exporter": "python",
   "pygments_lexer": "ipython3",
   "version": "3.10.8"
  },
  "orig_nbformat": 4,
  "vscode": {
   "interpreter": {
    "hash": "73986a8f3bce3efd6c5bb7f072a0fcc3be48ec97f1ec1ace688ac1bc99e481cd"
   }
  }
 },
 "nbformat": 4,
 "nbformat_minor": 2
}
