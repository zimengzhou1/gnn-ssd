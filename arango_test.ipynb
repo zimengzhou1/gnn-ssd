{
 "cells": [
  {
   "cell_type": "code",
   "execution_count": 1,
   "metadata": {},
   "outputs": [],
   "source": [
    "import torch\n",
    "import pandas\n",
    "from torch_geometric.datasets import FakeHeteroDataset\n",
    "\n",
    "from arango import ArangoClient  # Python-Arango driver\n",
    "\n",
    "from adbpyg_adapter import ADBPyG_Adapter, ADBPyG_Controller\n",
    "from adbpyg_adapter.encoders import IdentityEncoder, CategoricalEncoder\n",
    "from overflowDataset import OverFlowDataset\n",
    "\n",
    "path = '/mnt/raid0nvme1/zz/data/' + 'overflow'\n",
    "dataset = OverFlowDataset(path)\n",
    "data = dataset[0]\n",
    "n1 = torch.unique(data.edge_index[0])\n",
    "n2 = torch.unique(data.edge_index[1])\n",
    "total_nodes = torch.unique(torch.cat((n1,n2)))\n",
    "data.x = total_nodes\n",
    "\n",
    "from arango import ArangoClient\n",
    "import base64"
   ]
  },
  {
   "cell_type": "code",
   "execution_count": 16,
   "metadata": {},
   "outputs": [],
   "source": [
    "import numpy as np\n",
    "import pandas as pd\n",
    "\n",
    "t_np = data.edge_index.t().numpy()\n",
    "\n",
    "df = pd.DataFrame(t_np) #convert to a dataframe\n",
    "df.to_csv(\"testfile\",index=False)"
   ]
  },
  {
   "cell_type": "code",
   "execution_count": null,
   "metadata": {},
   "outputs": [],
   "source": [
    "from torch_geometric.data import Data\n",
    "\n",
    "sample_num = int(data.edge_index[0].numel() / (100/50))\n",
    "sampled_edges = torch.stack([data.edge_index[0][:sample_num], data.edge_index[1][:sample_num]])\n",
    "# print(sampled_edges)\n",
    "\n",
    "#sampled_edges = to_undirected(sampled_edges)\n",
    "\n",
    "n1 = torch.unique(sampled_edges[0])\n",
    "n2 = torch.unique(sampled_edges[1])\n",
    "total_nodes = torch.unique(torch.cat((n1,n2)))\n",
    "\n",
    "data = Data(x=total_nodes, edge_index=sampled_edges)"
   ]
  },
  {
   "cell_type": "code",
   "execution_count": 3,
   "metadata": {},
   "outputs": [
    {
     "name": "stdout",
     "output_type": "stream",
     "text": [
      "Data(x=[34, 34], edge_index=[2, 156], y=[34], train_mask=[34])\n"
     ]
    }
   ],
   "source": [
    "from torch_geometric.datasets import FakeDataset, FakeHeteroDataset, KarateClub\n",
    "\n",
    "pyg_karate_graph = KarateClub()[0]\n",
    "print(pyg_karate_graph)"
   ]
  },
  {
   "cell_type": "code",
   "execution_count": 11,
   "metadata": {},
   "outputs": [
    {
     "name": "stderr",
     "output_type": "stream",
     "text": [
      "[2023/03/27 16:08:42 +0100] [2327283] [INFO] - adbpyg_adapter: Instantiated ADBPyG_Adapter with database '_system'\n"
     ]
    },
    {
     "name": "stdout",
     "output_type": "stream",
     "text": [
      "ArangoDB: 3.10.5\n"
     ]
    },
    {
     "data": {
      "text/html": [
       "<pre style=\"white-space:pre;overflow-x:auto;line-height:normal;font-family:Menlo,'DejaVu Sans Mono',consolas,'Courier New',monospace\">INFO:adbpyg_adapter:Instantiated ADBPyG_Adapter with database '_system'\n",
       "</pre>\n"
      ],
      "text/plain": [
       "INFO:adbpyg_adapter:Instantiated ADBPyG_Adapter with database '_system'\n"
      ]
     },
     "metadata": {},
     "output_type": "display_data"
    },
    {
     "data": {
      "application/vnd.jupyter.widget-view+json": {
       "model_id": "8d6c47d7f65f413dbe06f951d272d1d4",
       "version_major": 2,
       "version_minor": 0
      },
      "text/plain": [
       "Output()"
      ]
     },
     "metadata": {},
     "output_type": "display_data"
    },
    {
     "data": {
      "text/html": [
       "<pre style=\"white-space:pre;overflow-x:auto;line-height:normal;font-family:Menlo,'DejaVu Sans Mono',consolas,'Courier New',monospace\"></pre>\n"
      ],
      "text/plain": []
     },
     "metadata": {},
     "output_type": "display_data"
    },
    {
     "data": {
      "text/html": [
       "<pre style=\"white-space:pre;overflow-x:auto;line-height:normal;font-family:Menlo,'DejaVu Sans Mono',consolas,'Courier New',monospace\">\n",
       "</pre>\n"
      ],
      "text/plain": [
       "\n"
      ]
     },
     "metadata": {},
     "output_type": "display_data"
    },
    {
     "ename": "DocumentInsertError",
     "evalue": "[HTTP 500][ERR 4] internal error",
     "output_type": "error",
     "traceback": [
      "\u001b[0;31m---------------------------------------------------------------------------\u001b[0m",
      "\u001b[0;31mDocumentInsertError\u001b[0m                       Traceback (most recent call last)",
      "Cell \u001b[0;32mIn[11], line 28\u001b[0m\n\u001b[1;32m     24\u001b[0m adbpyg_adapter \u001b[39m=\u001b[39m ADBPyG_Adapter(sys_db)\n\u001b[1;32m     26\u001b[0m sys_db\u001b[39m.\u001b[39mdelete_graph(\u001b[39m\"\u001b[39m\u001b[39moverflow\u001b[39m\u001b[39m\"\u001b[39m, drop_collections\u001b[39m=\u001b[39m\u001b[39mTrue\u001b[39;00m, ignore_missing\u001b[39m=\u001b[39m\u001b[39mTrue\u001b[39;00m)\n\u001b[0;32m---> 28\u001b[0m adb_g \u001b[39m=\u001b[39m adbpyg_adapter\u001b[39m.\u001b[39;49mpyg_to_arangodb(\u001b[39m\"\u001b[39;49m\u001b[39moverflow\u001b[39;49m\u001b[39m\"\u001b[39;49m, data)\n",
      "File \u001b[0;32m~/miniconda3/envs/gnn/lib/python3.10/site-packages/adbpyg_adapter/adapter.py:556\u001b[0m, in \u001b[0;36mADBPyG_Adapter.pyg_to_arangodb\u001b[0;34m(self, name, pyg_g, metagraph, explicit_metagraph, overwrite_graph, **import_options)\u001b[0m\n\u001b[1;32m    553\u001b[0m         f \u001b[39m=\u001b[39m \u001b[39mlambda\u001b[39;00m n: \u001b[39mself\u001b[39m\u001b[39m.\u001b[39m__cntrl\u001b[39m.\u001b[39m_prepare_pyg_node(n, n_type)\n\u001b[1;32m    554\u001b[0m         df \u001b[39m=\u001b[39m df\u001b[39m.\u001b[39mapply(f, axis\u001b[39m=\u001b[39m\u001b[39m1\u001b[39m)\n\u001b[0;32m--> 556\u001b[0m     \u001b[39mself\u001b[39;49m\u001b[39m.\u001b[39;49m__insert_adb_docs(n_type, df, import_options)\n\u001b[1;32m    558\u001b[0m e_meta \u001b[39m=\u001b[39m metagraph\u001b[39m.\u001b[39mget(\u001b[39m\"\u001b[39m\u001b[39medgeTypes\u001b[39m\u001b[39m\"\u001b[39m, {})\n\u001b[1;32m    559\u001b[0m \u001b[39mfor\u001b[39;00m e_type \u001b[39min\u001b[39;00m edge_types:\n",
      "File \u001b[0;32m~/miniconda3/envs/gnn/lib/python3.10/site-packages/adbpyg_adapter/adapter.py:718\u001b[0m, in \u001b[0;36mADBPyG_Adapter.__insert_adb_docs\u001b[0;34m(self, doc_type, df, kwargs)\u001b[0m\n\u001b[1;32m    715\u001b[0m p\u001b[39m.\u001b[39madd_task(\u001b[39m\"\u001b[39m\u001b[39m__insert_adb_docs\u001b[39m\u001b[39m\"\u001b[39m)\n\u001b[1;32m    717\u001b[0m docs \u001b[39m=\u001b[39m df\u001b[39m.\u001b[39mto_dict(\u001b[39m\"\u001b[39m\u001b[39mrecords\u001b[39m\u001b[39m\"\u001b[39m)\n\u001b[0;32m--> 718\u001b[0m result \u001b[39m=\u001b[39m \u001b[39mself\u001b[39;49m\u001b[39m.\u001b[39;49m__db\u001b[39m.\u001b[39;49mcollection(col)\u001b[39m.\u001b[39;49mimport_bulk(docs, \u001b[39m*\u001b[39;49m\u001b[39m*\u001b[39;49mkwargs)\n\u001b[1;32m    719\u001b[0m logger\u001b[39m.\u001b[39mdebug(result)\n",
      "File \u001b[0;32m~/miniconda3/envs/gnn/lib/python3.10/site-packages/arango/collection.py:2131\u001b[0m, in \u001b[0;36mCollection.import_bulk\u001b[0;34m(self, documents, halt_on_error, details, from_prefix, to_prefix, overwrite, on_duplicate, sync, batch_size)\u001b[0m\n\u001b[1;32m   2122\u001b[0m \u001b[39mif\u001b[39;00m batch_size \u001b[39mis\u001b[39;00m \u001b[39mNone\u001b[39;00m:\n\u001b[1;32m   2123\u001b[0m     request \u001b[39m=\u001b[39m Request(\n\u001b[1;32m   2124\u001b[0m         method\u001b[39m=\u001b[39m\u001b[39m\"\u001b[39m\u001b[39mpost\u001b[39m\u001b[39m\"\u001b[39m,\n\u001b[1;32m   2125\u001b[0m         endpoint\u001b[39m=\u001b[39m\u001b[39m\"\u001b[39m\u001b[39m/_api/import\u001b[39m\u001b[39m\"\u001b[39m,\n\u001b[0;32m   (...)\u001b[0m\n\u001b[1;32m   2128\u001b[0m         write\u001b[39m=\u001b[39m\u001b[39mself\u001b[39m\u001b[39m.\u001b[39mname,\n\u001b[1;32m   2129\u001b[0m     )\n\u001b[0;32m-> 2131\u001b[0m     \u001b[39mreturn\u001b[39;00m \u001b[39mself\u001b[39;49m\u001b[39m.\u001b[39;49m_execute(request, response_handler)\n\u001b[1;32m   2132\u001b[0m \u001b[39melse\u001b[39;00m:\n\u001b[1;32m   2133\u001b[0m     results \u001b[39m=\u001b[39m []\n",
      "File \u001b[0;32m~/miniconda3/envs/gnn/lib/python3.10/site-packages/arango/api.py:74\u001b[0m, in \u001b[0;36mApiGroup._execute\u001b[0;34m(self, request, response_handler)\u001b[0m\n\u001b[1;32m     63\u001b[0m \u001b[39mdef\u001b[39;00m \u001b[39m_execute\u001b[39m(\n\u001b[1;32m     64\u001b[0m     \u001b[39mself\u001b[39m, request: Request, response_handler: Callable[[Response], T]\n\u001b[1;32m     65\u001b[0m ) \u001b[39m-\u001b[39m\u001b[39m>\u001b[39m Result[T]:\n\u001b[1;32m     66\u001b[0m \u001b[39m    \u001b[39m\u001b[39m\"\"\"Execute an API.\u001b[39;00m\n\u001b[1;32m     67\u001b[0m \n\u001b[1;32m     68\u001b[0m \u001b[39m    :param request: HTTP request.\u001b[39;00m\n\u001b[0;32m   (...)\u001b[0m\n\u001b[1;32m     72\u001b[0m \u001b[39m    :return: API execution result.\u001b[39;00m\n\u001b[1;32m     73\u001b[0m \u001b[39m    \"\"\"\u001b[39;00m\n\u001b[0;32m---> 74\u001b[0m     \u001b[39mreturn\u001b[39;00m \u001b[39mself\u001b[39;49m\u001b[39m.\u001b[39;49m_executor\u001b[39m.\u001b[39;49mexecute(request, response_handler)\n",
      "File \u001b[0;32m~/miniconda3/envs/gnn/lib/python3.10/site-packages/arango/executor.py:65\u001b[0m, in \u001b[0;36mDefaultApiExecutor.execute\u001b[0;34m(self, request, response_handler)\u001b[0m\n\u001b[1;32m     56\u001b[0m \u001b[39m\u001b[39m\u001b[39m\"\"\"Execute an API request and return the result.\u001b[39;00m\n\u001b[1;32m     57\u001b[0m \n\u001b[1;32m     58\u001b[0m \u001b[39m:param request: HTTP request.\u001b[39;00m\n\u001b[0;32m   (...)\u001b[0m\n\u001b[1;32m     62\u001b[0m \u001b[39m:return: API execution result.\u001b[39;00m\n\u001b[1;32m     63\u001b[0m \u001b[39m\"\"\"\u001b[39;00m\n\u001b[1;32m     64\u001b[0m resp \u001b[39m=\u001b[39m \u001b[39mself\u001b[39m\u001b[39m.\u001b[39m_conn\u001b[39m.\u001b[39msend_request(request)\n\u001b[0;32m---> 65\u001b[0m \u001b[39mreturn\u001b[39;00m response_handler(resp)\n",
      "File \u001b[0;32m~/miniconda3/envs/gnn/lib/python3.10/site-packages/arango/collection.py:2120\u001b[0m, in \u001b[0;36mCollection.import_bulk.<locals>.response_handler\u001b[0;34m(resp)\u001b[0m\n\u001b[1;32m   2118\u001b[0m     result: Json \u001b[39m=\u001b[39m resp\u001b[39m.\u001b[39mbody\n\u001b[1;32m   2119\u001b[0m     \u001b[39mreturn\u001b[39;00m result\n\u001b[0;32m-> 2120\u001b[0m \u001b[39mraise\u001b[39;00m DocumentInsertError(resp, request)\n",
      "\u001b[0;31mDocumentInsertError\u001b[0m: [HTTP 500][ERR 4] internal error"
     ]
    }
   ],
   "source": [
    "from arango import ArangoClient\n",
    "import base64\n",
    "\n",
    "encodedCA = \"LS0tLS1CRUdJTiBDRVJUSUZJQ0FURS0tLS0tCk1JSURHRENDQWdDZ0F3SUJBZ0lRYm52a1BPbHhXUEkydG9TTU1oWHFXVEFOQmdrcWhraUc5dzBCQVFzRkFEQW0KTVJFd0R3WURWUVFLRXdoQmNtRnVaMjlFUWpFUk1BOEdBMVVFQXhNSVFYSmhibWR2UkVJd0hoY05Nak13TXpJMwpNVE16TVRJeldoY05Namd3TXpJMU1UTXpNVEl6V2pBbU1SRXdEd1lEVlFRS0V3aEJjbUZ1WjI5RVFqRVJNQThHCkExVUVBeE1JUVhKaGJtZHZSRUl3Z2dFaU1BMEdDU3FHU0liM0RRRUJBUVVBQTRJQkR3QXdnZ0VLQW9JQkFRRDMKQ1BTRjM2bml5ZVNDTTFoNUIrVjdHc1A3QWl1SC9FR3M0bGE3TWx1RThJMEtJM3J6ZGlKTGVYaHZjRE9abHBITQpYWm5PeW81N3JZZWZRZG43WEpLekNIdTA4Wkg5c1NVWjY3Umx0QjZqVHZOYzg3a1BBdTY3TWtDSkpCT1dhbkVFCmZLVE9DdGsrYkVUbmdFVGR5dlVuYm90QTdtQU5wY1Z2VUhjUUNGVTFkRUs0S2dJbnBpZjdhMWJxTHVwNnVzZEoKSFF3VDNHS2JablN3L3F4S0FZU1kwNUE4MHJuTEVsOXVVQTAwbFJjazAvOXRMMmdJbWRxRW53VFZsei9IcWh1QwpaZjBJb09qVGpBaGd2MWxkbVdWdUNRblUycmVxWEozVlc4amp0NmdHQWhGZ0VmQW9tK0RYS29aRTA1NkphUW1VCmNla014L1ZtcXZDSWRBSTVlOS9MQWdNQkFBR2pRakJBTUE0R0ExVWREd0VCL3dRRUF3SUNwREFQQmdOVkhSTUIKQWY4RUJUQURBUUgvTUIwR0ExVWREZ1FXQkJSeTJ3Uk5RVFFTaTB3dy9KWnhYM1NvM1FyRk56QU5CZ2txaGtpRwo5dzBCQVFzRkFBT0NBUUVBUmx5VUo3L29hQ0dRa2NPY3JrL1RyclNBaGFsS0pBSEZiY09BcHZUcVpZc0xzYzdLClk5VEtvSW5WMmNqVkQwUnBLQ09DZ1hFcTQzMjdoR1ZlYSt1czh5WlBNTUJxQ0R5M3hEZXhrN016ZmJETVVoT1IKK1NwWFlHSnd3S1lQYTBoeWNNcmFrc2EreUl3ZzlLUjIrcndqQlNrNjlhY05VZ1R3dkZ6clJrQXd6R1kyamQ0egpDTEhMSnlhNHMwQ2tYTXlkR3NzUXZGQmV1djRKMjJyYUdLUVhSU20ybXJNamZFWjVzYmJWd2E4cjM1c0NpL3FDCmhCTUM5em13V29qL3VBWlQ2WDZJQklUV1IwSDE3c0dvSTZsNmlSZ2JEbDhuTnZLdFVZbWV5MkhCc0JXZGdHYkUKN3k0ekhtU2ltOGFXZm5yVFBoc0NwcFhCcDZreTZVa3lyd0RDMmc9PQotLS0tLUVORCBDRVJUSUZJQ0FURS0tLS0tCg==\"\n",
    "try:\n",
    "    file_content = base64.b64decode(encodedCA)\n",
    "    with open(\"cert_file.crt\", \"w+\") as f:\n",
    "        f.write(file_content.decode(\"utf-8\"))\n",
    "except Exception as e:\n",
    "    print(str(e))\n",
    "    exit(1)\n",
    "\n",
    "client = ArangoClient(\n",
    "    hosts=\"https://242cb5126c33.arangodb.cloud:18529\", verify_override=\"cert_file.crt\"\n",
    ")\n",
    "\n",
    "sys_db = client.db(\"_system\", username=\"root\", password=\"bHkkq82lpWCMa8M2I8rK\")\n",
    "\n",
    "# Note that ArangoGraph Insights Platform runs deployments in a cluster configuration.\n",
    "# To achieve the best possible availability, your client application has to handle\n",
    "# connection failures by retrying operations if needed.\n",
    "print(\"ArangoDB:\", sys_db.version())\n",
    "\n",
    "adbpyg_adapter = ADBPyG_Adapter(sys_db)\n",
    "\n",
    "sys_db.delete_graph(\"overflow\", drop_collections=True, ignore_missing=True)\n",
    "\n",
    "adb_g = adbpyg_adapter.pyg_to_arangodb(\"overflow\", data)"
   ]
  },
  {
   "cell_type": "code",
   "execution_count": null,
   "metadata": {},
   "outputs": [],
   "source": []
  }
 ],
 "metadata": {
  "kernelspec": {
   "display_name": "gnn",
   "language": "python",
   "name": "python3"
  },
  "language_info": {
   "codemirror_mode": {
    "name": "ipython",
    "version": 3
   },
   "file_extension": ".py",
   "mimetype": "text/x-python",
   "name": "python",
   "nbconvert_exporter": "python",
   "pygments_lexer": "ipython3",
   "version": "3.10.8"
  },
  "orig_nbformat": 4
 },
 "nbformat": 4,
 "nbformat_minor": 2
}
